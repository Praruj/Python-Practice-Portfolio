{
 "cells": [
  {
   "cell_type": "markdown",
   "id": "5b195ddc",
   "metadata": {},
   "source": [
    "# filter function:\n",
    "It is used to create an iterator from elements of an itrable for which a function returns True. (returns all elements that pass condition.)\n",
    "# syntax:   \n",
    "filter(function,iterable)　　or filter(function,collection)\n",
    "\n",
    "# summary: \n",
    "1. use filter() to select element based on conditions.\n",
    "2. often used with lambda or named functions.\n",
    "3. convert result to list to see output. \n",
    "4. takes another function as argument\n",
    "5. does the looping implicitly so dont have to write. "
   ]
  },
  {
   "cell_type": "code",
   "execution_count": 3,
   "id": "0d350f11",
   "metadata": {},
   "outputs": [
    {
     "name": "stdout",
     "output_type": "stream",
     "text": [
      "[1, 3, 5]\n"
     ]
    }
   ],
   "source": [
    "# filter out even numbers and keep only odd numbers\n",
    "def filter_even(number):\n",
    "    return list(filter(lambda x: x%2!=0,number))\n",
    "number=[1,2,3,4,5]\n",
    "print(filter_even(number))"
   ]
  },
  {
   "cell_type": "code",
   "execution_count": 2,
   "id": "74817d71",
   "metadata": {},
   "outputs": [
    {
     "name": "stdout",
     "output_type": "stream",
     "text": [
      "['Y', 'P']\n"
     ]
    }
   ],
   "source": [
    "# uppercase extractor: to extract all the uppercase letters from a mixed case strings. \n",
    "\n",
    "texts=[\"hello\",\"whY\",\"Python\"]\n",
    "# if a character is uppercase using the isupper() method. \n",
    "uppercase_letters=list(filter(lambda char: char.isupper(),\"\".join(texts))) #filters return an iterable of uppercase letters, which we convert to a lists.\n",
    "print(uppercase_letters)"
   ]
  },
  {
   "cell_type": "code",
   "execution_count": null,
   "id": "9ce2c393",
   "metadata": {},
   "outputs": [
    {
     "name": "stdout",
     "output_type": "stream",
     "text": [
      "[20, 30, 50]\n"
     ]
    },
    {
     "data": {
      "text/plain": [
       "[20, 30, 40, 50]"
      ]
     },
     "execution_count": 7,
     "metadata": {},
     "output_type": "execute_result"
    }
   ],
   "source": [
    "# python function to filters number by threshold.\n",
    "\n",
    "#so we can use filter()　to keep number greater than threshold. \n",
    "def filter_numbers(number,threshold):\n",
    "    result=list(filter(lambda num: num>=threshold,number)) #O(n)\n",
    "    return result\n",
    "number=[20,10,30,50]\n",
    "threshold=20\n",
    "print(filter_numbers(number,threshold))\n",
    "\n",
    "# Time complexity: O(n), since n is length of list of number and take n times to convert into list. \n",
    "#Each item is checked once to see if it meets the threshold condition.\n",
    "\n",
    "# Another approach: for readable and reuseable piece of logic.\n",
    "\n",
    "def filter_numbers(numbers,threshold):\n",
    "    # inner Function : function returning true or False. \n",
    "    def is_less_than(num): \n",
    "        return num>=threshold\n",
    "    filtered=list(filter(is_less_than,numbers)) \n",
    "    return filtered # it is return by outerfunction\n",
    "filter_numbers([10,20,30,40,50],20)"
   ]
  },
  {
   "cell_type": "code",
   "execution_count": null,
   "id": "54200f23",
   "metadata": {},
   "outputs": [
    {
     "name": "stdout",
     "output_type": "stream",
     "text": [
      "['Irin']\n"
     ]
    }
   ],
   "source": [
    "# Vowel name filter: to extract names that start with (a,e,i,o,u)\n",
    "def start_with_vowels(name):\n",
    "    return name[0].lower() in [\"a\",\"e\",\"i\",\"o\",\"u\"] #lower method() converts first character so it works for both lowercase and uppercase characters in list. \n",
    "vowel_names=list(filter(start_with_vowels,[\"Ram\",\"shyam\",\"Irin\"]))\n",
    "print(vowel_names)"
   ]
  },
  {
   "cell_type": "code",
   "execution_count": null,
   "id": "f57143b1",
   "metadata": {},
   "outputs": [
    {
     "name": "stdout",
     "output_type": "stream",
     "text": [
      "['w3resource', 'Filter', 'Python']\n",
      "['w3resource', 'Filter', 'Python']\n"
     ]
    }
   ],
   "source": [
    "# function to filter out empty strings from a list. \n",
    "def filter_non_empty(strings):\n",
    "    def is_non_empty_string(s):\n",
    "        return s.strip()!=\"\"\n",
    "    non_empty_strings=list(filter(is_non_empty_string,strings))\n",
    "    return non_empty_strings\n",
    "strings = [\"\", \"w3resource\", \"Filter\", \"\", \"Python\", \"\"]\n",
    "print(filter_non_empty(strings))\n",
    "\n",
    "\n",
    "#another approach\n",
    "def filter_non_empty(strings):\n",
    "    result=list(filter(lambda s:s.strip()!=\"\",strings)) #lambda function to check if the string is non-empty after stripping whitespace. \n",
    "    return result\n",
    "strings = [\"\", \"w3resource\", \"Filter\", \"\", \"Python\", \"\"]\n",
    "print(filter_non_empty(strings)) #calling the function and printing the result. \n"
   ]
  },
  {
   "cell_type": "code",
   "execution_count": 17,
   "id": "2bb9d20f",
   "metadata": {},
   "outputs": [
    {
     "name": "stdout",
     "output_type": "stream",
     "text": [
      "[{'Name': 'Danish', 'Age': 24, 'grade': 90}, {'Name': 'carryminati', 'Age': 22, 'grade': 92}]\n"
     ]
    }
   ],
   "source": [
    "#Problem:  student grade filter.\n",
    "# creating list of dictionary which contains  student information.\n",
    "\n",
    "students=[\n",
    "    {\"Name\":\"Danish\",\"Age\":24,\"grade\":90},\n",
    "    {\"Name\":\"carryminati\",\"Age\":22,\"grade\":92},\n",
    "    {\"Name\":\"Ajay\",\"Age\":26,\"grade\":80}\n",
    "]\n",
    "def has_good_grade(student):\n",
    "    return student[\"grade\"]>=90\n",
    "good_grade_students=list(filter(has_good_grade,students))\n",
    "print(good_grade_students)"
   ]
  },
  {
   "cell_type": "code",
   "execution_count": null,
   "id": "c4a259ed",
   "metadata": {},
   "outputs": [
    {
     "name": "stdout",
     "output_type": "stream",
     "text": [
      "[2, 3, 5, 7, 11, 13, 17]\n"
     ]
    }
   ],
   "source": [
    "# Filter out prime numbers from a list if number is prime\n",
    "def is_prime(n):\n",
    "    if n<=1:\n",
    "        return False\n",
    "    if n<=3:\n",
    "        return True\n",
    "    if n%2==0 or n%3==0:\n",
    "        return False\n",
    "#only this logic cant comprehend multiple of prime numbers. so using 6k ± 1 optimization. \n",
    "    i=5\n",
    "    while i*i<=n:\n",
    "        if n%i==0 or n%(i+2)==0:\n",
    "            return False\n",
    "        i+=6\n",
    "    return True\n",
    "numbers = [1, 2, 3, 4, 5, 6, 7, 8, 9, 10, 11, 12, 13, 14, 15, 16, 17]\n",
    "prime_numbers = list(filter(is_prime, numbers))\n",
    "print(prime_numbers)\n",
    "\n",
    "\n",
    "\n",
    "#note\n",
    "# The function is_prime(n) efficiently checks if n is prime\n",
    "# 1. Returns False for n <= 1 (not prime numbers)\n",
    "# 2. Returns True for n <= 3 (2 and 3 are prime)\n",
    "# 3. Returns False immediately if n is divisible by 2 or 3\n",
    "# 4. For other numbers, checks only divisors of the form 6k ± 1 up to sqrt(n)\n",
    "#    (because all primes > 3 can be represented in this form)\n",
    "# 5. Returns True if no divisor is found, confirming n is prime\n",
    "# The numbers list is filtered using this function to extract all prime numbers"
   ]
  },
  {
   "cell_type": "code",
   "execution_count": 31,
   "id": "d21ee443",
   "metadata": {},
   "outputs": [
    {
     "name": "stdout",
     "output_type": "stream",
     "text": [
      "['programming', 'confusing']\n",
      "['programming', 'confusing']\n"
     ]
    }
   ],
   "source": [
    "# Problem : To extract words more than 6 letters\n",
    "words=[\"python\",\"programming\",\"ishard\",\"confusing\",\"idk\"]\n",
    "result=list(filter(lambda word:len(word)>6,words))\n",
    "print(result)\n",
    "\n",
    "#Note: to write this program without filter we have to make empty list and append that or list comprehension. \n",
    "#result-[word for word in words if len(word>6)]\n",
    "\n",
    "#another approach by defining the function. \n",
    "def extract_word(word):\n",
    "    return len(word)>7\n",
    "result=list(filter(extract_word,words))\n",
    "print(result)"
   ]
  },
  {
   "cell_type": "code",
   "execution_count": 32,
   "id": "7ccb9ca6",
   "metadata": {},
   "outputs": [
    {
     "name": "stdout",
     "output_type": "stream",
     "text": [
      "['yellow', 'white']\n"
     ]
    }
   ],
   "source": [
    "# filter strings with in the substrings.\n",
    "def filter_strings_with_substrings(strings,substrings):\n",
    "    def contains_substring(string):\n",
    "        return substrings in string\n",
    "    filtered_string=list(filter(contains_substring,strings))\n",
    "    return filtered_string\n",
    "strings=[\"yellow\",\"black\",\"white\",\"pink\"]\n",
    "substrings=\"w\"\n",
    "print(filter_strings_with_substrings(strings,substrings))"
   ]
  }
 ],
 "metadata": {
  "kernelspec": {
   "display_name": "3.10.0",
   "language": "python",
   "name": "python3"
  },
  "language_info": {
   "codemirror_mode": {
    "name": "ipython",
    "version": 3
   },
   "file_extension": ".py",
   "mimetype": "text/x-python",
   "name": "python",
   "nbconvert_exporter": "python",
   "pygments_lexer": "ipython3",
   "version": "3.10.0"
  }
 },
 "nbformat": 4,
 "nbformat_minor": 5
}
