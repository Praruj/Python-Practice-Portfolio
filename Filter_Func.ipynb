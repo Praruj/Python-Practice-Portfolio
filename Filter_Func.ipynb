{
 "cells": [
  {
   "cell_type": "markdown",
   "id": "5b195ddc",
   "metadata": {},
   "source": [
    "# filter function:\n",
    "It is used to create an iterator from elements of an itrable for which a function returns True. (returns all elements that pass condition.)\n",
    "# syntax:   \n",
    "filter(function,iterable)　　or filter(function,collection)\n",
    "\n",
    "# summary: \n",
    "1. use filter() to select element based on conditions.\n",
    "2. often used with lambda or named functions.\n",
    "3. convert result to list to see output. "
   ]
  },
  {
   "cell_type": "code",
   "execution_count": 3,
   "id": "0d350f11",
   "metadata": {},
   "outputs": [
    {
     "name": "stdout",
     "output_type": "stream",
     "text": [
      "[1, 3, 5]\n"
     ]
    }
   ],
   "source": [
    "# filter out even numbers and keep only odd numbers\n",
    "def filter_even(number):\n",
    "    return list(filter(lambda x: x%2!=0,number))\n",
    "number=[1,2,3,4,5]\n",
    "print(filter_even(number))"
   ]
  },
  {
   "cell_type": "code",
   "execution_count": null,
   "id": "74817d71",
   "metadata": {},
   "outputs": [
    {
     "name": "stdout",
     "output_type": "stream",
     "text": [
      "['P']\n"
     ]
    }
   ],
   "source": [
    "# uppercase extractor: to extract all the uppercase letters from a mixed case strings. \n",
    "\n",
    "texts=[\"hello\",\"why\",\"Python\"]\n",
    "# if a character is uppercase using the isupper() method. \n",
    "uppercase_letters=list(filter(lambda char: char.isupper(),\"\".join(texts))) #filters return an iterable of uppercase letters, which we convert to a lists.\n",
    "print(uppercase_letters)"
   ]
  }
 ],
 "metadata": {
  "kernelspec": {
   "display_name": "3.10.0",
   "language": "python",
   "name": "python3"
  },
  "language_info": {
   "codemirror_mode": {
    "name": "ipython",
    "version": 3
   },
   "file_extension": ".py",
   "mimetype": "text/x-python",
   "name": "python",
   "nbconvert_exporter": "python",
   "pygments_lexer": "ipython3",
   "version": "3.10.0"
  }
 },
 "nbformat": 4,
 "nbformat_minor": 5
}
