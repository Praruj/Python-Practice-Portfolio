{
 "cells": [
  {
   "cell_type": "markdown",
   "id": "2e1679ce",
   "metadata": {},
   "source": [
    "# Date-time module\n",
    "it provides classes to work with dates, times and time intervals. we have to import this module. (built-in module).\n",
    "It is commonly used in :\n",
    "1. getting current time and date.\n",
    "2. Calculating time differences.\n",
    "3. Formatting dates for user interfaces.\n",
    "4. Parsing date strings from data.\n",
    "\n",
    "# Key classes in datetime:\n",
    "1. datetime.date: handles date (year,month,day)\n",
    "2. datetime.time: handles time (hour, minute,second,microsecond)\n",
    "3. datetime.datetime: combines date and time\n",
    "4. datetime.timedelta : Represents a duration or difference between two dates/times.\n",
    "4. datetime.timezone: Handles time zones. "
   ]
  },
  {
   "cell_type": "code",
   "execution_count": 12,
   "id": "c97d1a8b",
   "metadata": {},
   "outputs": [
    {
     "name": "stdout",
     "output_type": "stream",
     "text": [
      "current date and time 2025-09-30 16:16:27.730201\n",
      "current year: 2025\n",
      "current month: September\n",
      "week number of year: 39\n",
      "weekday of the week: 2\n",
      "Day of year: 273\n",
      "day of the month: 30\n",
      "day of week: Tuesday\n"
     ]
    }
   ],
   "source": [
    "# Basic exercise : Write a Python script to display the various Date Time formats.\n",
    "import time\n",
    "import datetime\n",
    "\n",
    "# print current time ad date using datetime\n",
    "print(\"current date and time\", datetime.datetime.now())\n",
    "\n",
    "# print current year extracted from todays date.\n",
    "print(\"current year:\", datetime.date.today().strftime(\"%Y\"))\n",
    "\n",
    "#Print month of year extracted from todays date.\n",
    "print(\"current month:\", datetime.date.today().strftime(\"%B\"))\n",
    "\n",
    "# Print week number of year\n",
    "print(\"week number of year:\", datetime.date.today().strftime(\"%W\"))\n",
    "\n",
    "# print weekday of the week extracted from todays date.\n",
    "print(\"weekday of the week:\", datetime.date.today().strftime(\"%w\") )\n",
    "\n",
    "# print the day of year extracted from todays date.\n",
    "print(\"Day of year:\",datetime.date.today().strftime(\"%j\"))\n",
    "\n",
    "# print the day of the month extracted from todays date. \n",
    "print(\"day of the month:\",datetime.date.today().strftime(\"%d\"))\n",
    "\n",
    "# Print the day of the week extracted from todays date.\n",
    "print(\"day of week:\", datetime.date.today().strftime(\"%A\"))"
   ]
  },
  {
   "cell_type": "markdown",
   "id": "e193bc08",
   "metadata": {},
   "source": [
    "# Key Concepts Explained\n",
    "\n",
    "datetime.date.today(): Returns the current date (year, month, day) without time. It’s simpler than datetime.datetime.now(), which includes time.\n",
    "strftime(format): Converts a date object to a string in a specified format. The format codes (%Y, %B, etc.) define what part of the date to extract:\n",
    "\n",
    "1. %Y: Four-digit year (e.g., 2025).\n",
    "2. %B: Full month name (e.g., September).\n",
    "3. %W: Week number of the year (Monday-based, 00-53).\n",
    "4. %w: Weekday as a number (0=Sunday, 6=Saturday).\n",
    "5. %j: Day of the year (001-366).\n",
    "6. %d: Day of the month (01-31).\n",
    "7. %A: Full weekday name (e.g., Tuesday)."
   ]
  },
  {
   "cell_type": "code",
   "execution_count": 13,
   "id": "1d046a35",
   "metadata": {},
   "outputs": [
    {
     "name": "stdout",
     "output_type": "stream",
     "text": [
      " Alert:High temperature(6°C) at 2025-09-30 04:27 PM\n",
      " Temperature is ok (3°C)at 2025-09-30 04:27 PM\n"
     ]
    }
   ],
   "source": [
    "# scripts combining datetime concepts for a fridge temperature log\n",
    "import datetime\n",
    "\n",
    "def log_temperature(temp):\n",
    "    now=datetime.datetime.now()\n",
    "    formatted_time=now.strftime(\"%Y-%m-%d %I:%M %p\")\n",
    "    if temp>5:\n",
    "        print(f\" Alert:High temperature({temp}°C) at {formatted_time}\")\n",
    "    else:\n",
    "        print(f\" Temperature is ok ({temp}°C)at {formatted_time}\")\n",
    "log_temperature(6)\n",
    "log_temperature(3)"
   ]
  },
  {
   "cell_type": "code",
   "execution_count": 18,
   "id": "35f94385",
   "metadata": {},
   "outputs": [
    {
     "name": "stdout",
     "output_type": "stream",
     "text": [
      "2025-12-30\n",
      "17:28:00\n",
      "2025-12-25 14:30:00\n"
     ]
    }
   ],
   "source": [
    "#creating specific date or time.\n",
    "specific_date=datetime.date(2025,12,30)\n",
    "print(specific_date)\n",
    "\n",
    "specific_time=datetime.time(17,28)\n",
    "print(specific_time)\n",
    "\n",
    "specific_datetime=datetime.datetime(2025,12,25,14,30,00)\n",
    "print(specific_datetime)"
   ]
  },
  {
   "cell_type": "code",
   "execution_count": 23,
   "id": "04cb96c1",
   "metadata": {},
   "outputs": [
    {
     "name": "stdout",
     "output_type": "stream",
     "text": [
      "2025-10-07 16:38:50.261823\n",
      "86 days, 0:00:00 days left for christmas\n"
     ]
    }
   ],
   "source": [
    "from datetime import timedelta,datetime\n",
    "#calculate 7 days from today\n",
    "today=datetime.today()\n",
    "future_date=today+timedelta(days=7)\n",
    "print(future_date)\n",
    "\n",
    "import datetime\n",
    "#difference between two dates.\n",
    "date1=datetime.date(2025,9,30)\n",
    "date2=datetime.date(2025,12,25)\n",
    "difference=date2-date1\n",
    "print(f\"{difference} days left for christmas\")"
   ]
  },
  {
   "cell_type": "code",
   "execution_count": null,
   "id": "12072db4",
   "metadata": {},
   "outputs": [
    {
     "name": "stdout",
     "output_type": "stream",
     "text": [
      "2025-09-30 16:55:32\n",
      "September 30,2025, 04:55 PM\n"
     ]
    }
   ],
   "source": [
    "# formatting dates for display. \n",
    "import datetime\n",
    "now=datetime.datetime.now()\n",
    "formatted=now.strftime(\"%Y-%m-%d %H:%M:%S\")  # Year-Month-Day Hour:Minute:Second\n",
    "print(formatted)\n",
    "\n",
    "#custom format for display.\n",
    "readable=now.strftime(\"%B %d,%Y, %I:%M %p\") # Month Day, Year, Hour:Minute AM/PM \n",
    "print(readable) "
   ]
  }
 ],
 "metadata": {
  "kernelspec": {
   "display_name": ".venv",
   "language": "python",
   "name": "python3"
  },
  "language_info": {
   "codemirror_mode": {
    "name": "ipython",
    "version": 3
   },
   "file_extension": ".py",
   "mimetype": "text/x-python",
   "name": "python",
   "nbconvert_exporter": "python",
   "pygments_lexer": "ipython3",
   "version": "3.10.0"
  }
 },
 "nbformat": 4,
 "nbformat_minor": 5
}
