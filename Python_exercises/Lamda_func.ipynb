{
 "cells": [
  {
   "cell_type": "markdown",
   "id": "96bb4722",
   "metadata": {},
   "source": [
    "# Lambda function\n",
    "A small, anynomous function which can take any number of arguments but contain only single expression, which it evaluates and return.\n",
    "# syntax\n",
    "Lambda arguments: expression"
   ]
  },
  {
   "cell_type": "code",
   "execution_count": null,
   "id": "eeb19809",
   "metadata": {},
   "outputs": [
    {
     "name": "stdout",
     "output_type": "stream",
     "text": [
      "30\n",
      "25\n",
      "[1, 3, 5, 7, 9]\n",
      "[2, 4, 6]\n"
     ]
    }
   ],
   "source": [
    "# Few simple exercise to understand lambda function. \n",
    "add_ten=lambda x:x+10\n",
    "print(add_ten(20))\n",
    "\n",
    "#using multiple arguments\n",
    "Multiply=lambda a,b :a*b\n",
    "print(Multiply(5,5))\n",
    "\n",
    "# lambda function are used when we need function for short period of time and dont want formally using def. \n",
    "\n",
    "#other comman usage.\n",
    "#return only odd numbers\n",
    "numbers=[1,2,3,4,5,6,7,8,9]\n",
    "odds=list(filter(lambda x:x%2!=0,numbers)) #integer filter using lambda. \n",
    "print(odds)\n",
    "\n",
    "#double every number in list.\n",
    "numbers=[1,2,3]\n",
    "double=list(map(lambda x:x*2,numbers))\n",
    "print(double)\n",
    "\n",
    "#use filter to select elements based on conditions\n",
    "#use map to change transform elements, and performs mathematical operations on each number. \n",
    "#both returns lazy iterators that can be converted to lists() for easy viewing, often used with lambda functions for concise code. "
   ]
  },
  {
   "cell_type": "code",
   "execution_count": 10,
   "id": "139d1db7",
   "metadata": {},
   "outputs": [
    {
     "name": "stdout",
     "output_type": "stream",
     "text": [
      "[('Radha', 22), ('Ram', 24), ('hari', 29)]\n"
     ]
    }
   ],
   "source": [
    "# Tuple sorting lambda\n",
    "Students=[(\"Ram\",24),(\"hari\",29),(\"Radha\",22)]\n",
    "Students.sort(key=lambda x:x[1]) #sorting key to extract second elements. \n",
    "print(Students)"
   ]
  },
  {
   "cell_type": "code",
   "execution_count": null,
   "id": "a85795bc",
   "metadata": {},
   "outputs": [
    {
     "name": "stdout",
     "output_type": "stream",
     "text": [
      "[{'name': 'shyam', 'age': '32', 'class': 6}, {'name': 'Radha', 'age': 20, 'class': 10}, {'name': 'Hari', 'age': 22, 'class': 12}]\n"
     ]
    }
   ],
   "source": [
    "# sorting dictionary using lambda\n",
    "students=[\n",
    "    {\"name\":\"Radha\",\"age\":20,\"class\":10},\n",
    "    {\"name\":\"Hari\",\"age\":22,\"class\":12},\n",
    "    {\"name\":\"shyam\",\"age\":\"32\",\"class\":6}\n",
    "]\n",
    "Sorted_students=sorted(students,key=lambda x:x[\"class\"]) #key parameter uses any func to tell python how to sort elements. \n",
    "print(Sorted_students)\n",
    "\n",
    "# key parameter is callable, including named functions. \n",
    "# key should be used when we need to sort elements on a criteria other than element it self. \n",
    "# use key for  sorting by derived or nested values. "
   ]
  },
  {
   "cell_type": "code",
   "execution_count": null,
   "id": "faaae384",
   "metadata": {},
   "outputs": [
    {
     "name": "stdout",
     "output_type": "stream",
     "text": [
      "[0, 1, 1, 2, 3, 5, 8, 13, 21, 34, 55, 89]\n"
     ]
    }
   ],
   "source": [
    "# Fibonacci series using lambda (a series of numbers in which each number is the sum of the two preceding numbers)\n",
    "fibonacci= lambda n:n if n<=1 else fibonacci(n-1)+fibonacci(n-2)\n",
    "series=list(map(fibonacci,range(12))) #fibonacci func to reach number of that range. \n",
    "print(series)\n",
    "\n",
    "# defines fibonacci recursively with lambda; uses map to generate sequence for numbers 0 To 11. \n",
    "# its inefficient for large inputs because of many repeated calculations. \n",
    "# Time complexity is O(2^n), it doubles the work for each increase in n. \n"
   ]
  },
  {
   "cell_type": "code",
   "execution_count": 20,
   "id": "d2158c9b",
   "metadata": {},
   "outputs": [
    {
     "name": "stdout",
     "output_type": "stream",
     "text": [
      "[0, 1, 1, 2, 3, 5, 8, 13, 21, 34]\n"
     ]
    }
   ],
   "source": [
    "# other approach (Iterative Approach) for O(n) solution. \n",
    "def fibonacci(n):\n",
    "    a,b=0,1\n",
    "    result=[]\n",
    "    for  i in range(n):\n",
    "        result.append(a)\n",
    "        a,b=b, a+b\n",
    "    return result\n",
    "print(fibonacci(10))\n",
    "\n",
    "\n",
    "# Takes O(n) time beacuse it loop n times. \n",
    "# keeps track of only one number at a time- saves space and computation. "
   ]
  },
  {
   "cell_type": "code",
   "execution_count": null,
   "id": "b0d4342d",
   "metadata": {},
   "outputs": [
    {
     "name": "stdout",
     "output_type": "stream",
     "text": [
      "[2, 4, 6, 7, 8]\n"
     ]
    }
   ],
   "source": [
    "# Array intersection Lambda\n",
    "\n",
    "nums1=[1,2,3,4,5,6,7,8,9]\n",
    "nums2=[2,4,6,7,8]\n",
    "Result=list(filter(lambda x: x in nums1,nums2))\n",
    "print(Result)\n",
    "\n",
    "# a simple code to find intersection between two arrays. \n",
    "# expression checks if element x exist in element in list nums1. so, time complexity becomes O(m*n).\n",
    "# for big arrays this becomes slow because every element in nums2, we are scanning all of nums1. "
   ]
  },
  {
   "cell_type": "code",
   "execution_count": null,
   "id": "3c9a1bd0",
   "metadata": {},
   "outputs": [
    {
     "name": "stdout",
     "output_type": "stream",
     "text": [
      "[2, 3, 4, 5, -4, -3, -2, -1]\n"
     ]
    }
   ],
   "source": [
    "# Rearrange negaive Lambda\n",
    "nums=[-1,-2,-3,-4,2,3,4,5]\n",
    "#key places positive numbers before negative numbers abnd zeros, maintaining their original order. \n",
    "Result=sorted(nums, key=lambda i:0 if i==0 else -1/i)\n",
    "print(Result)\n",
    "\n",
    "#sorted already returns in a list so no use of list(). \n",
    "# .sort() returns none even though nums is a list because it doesnot return a newe list. \n",
    "# use .sort() when we want to sort existing list and dont need a new list copy.\n",
    "# sorted(): a new sorted list leaving original unchanged. "
   ]
  },
  {
   "cell_type": "code",
   "execution_count": 28,
   "id": "bcdfd620",
   "metadata": {},
   "outputs": [
    {
     "name": "stdout",
     "output_type": "stream",
     "text": [
      "5\n",
      "5\n"
     ]
    }
   ],
   "source": [
    "#count even or odd numbers in alist.\n",
    "number=[1,2,3,4,5,6,7,8,9,10]\n",
    "even=len(list(filter(lambda x: x%2==0,number)))\n",
    "odd=len(list(filter(lambda x:  x%2!=0,number)))\n",
    "print(even)\n",
    "print(odd)\n",
    "\n",
    "# Filter() takes two arguments that returns true or False for each item. filter the numbers where condition is true. "
   ]
  },
  {
   "cell_type": "code",
   "execution_count": 30,
   "id": "b1580faa",
   "metadata": {},
   "outputs": [
    {
     "name": "stdout",
     "output_type": "stream",
     "text": [
      "['hari', 'sita']\n"
     ]
    }
   ],
   "source": [
    "# Length filter strings lambda\n",
    "student_name=[\"hari\",\"geeta\",\"sita\",\"laxman\"]\n",
    "names=list(filter(lambda name:  len(name)==4 ,student_name))\n",
    "print(names)"
   ]
  },
  {
   "cell_type": "code",
   "execution_count": null,
   "id": "2af21105",
   "metadata": {},
   "outputs": [
    {
     "name": "stdout",
     "output_type": "stream",
     "text": [
      "['madam', 'racecar']\n"
     ]
    }
   ],
   "source": [
    "# Palindrome filter using lambda\n",
    "\n",
    "texts=[\"madam\",\"hello\",\"racecar\",\"Python\"]\n",
    "result=list(filter(lambda n:(n==\"\".join(reversed(n))),texts)) #strings formed by joining reverse sequence of n's character. \n",
    "print(result)\n",
    "\n",
    "# However, there are other optimized solutions for finding palindrome like two-pointers method. "
   ]
  },
  {
   "cell_type": "code",
   "execution_count": null,
   "id": "e7d7959e",
   "metadata": {},
   "outputs": [
    {
     "name": "stdout",
     "output_type": "stream",
     "text": [
      "['bcda', 'cbda', 'adcb']\n"
     ]
    }
   ],
   "source": [
    "# to check anagrams\n",
    "texts= [\"bcda\", \"abce\", \"cbda\", \"cbea\", \"adcb\"]\n",
    "test_str=\"abcd\"\n",
    "find_anagrams=lambda words, s: list(filter(lambda x: sorted(x)==sorted(s),words))\n",
    "anagrams=find_anagrams(texts,test_str)\n",
    "print(anagrams)\n",
    "\n",
    "# s is target string t check against.\n",
    "# x is each string from words list,one at a time. \n"
   ]
  },
  {
   "cell_type": "code",
   "execution_count": null,
   "id": "4b0ac283",
   "metadata": {},
   "outputs": [
    {
     "name": "stdout",
     "output_type": "stream",
     "text": [
      "[1, 10, 12, 19, 'blue', 'green', 'green', 'red', 'white']\n"
     ]
    }
   ],
   "source": [
    "#python program to sort miexd list of strings and integers. \n",
    "def sort_mixed_list(mixed_list):\n",
    "# e is parameter representing each element form mixed_list as sort func processes it and lambda returns tuple, returns True if e is string otherwise False. \n",
    "    mixed_list.sort(key=lambda e: (isinstance(e,str),e))\n",
    "    return mixed_list\n",
    "mixed_list = [19, 'red', 12, 'green', 'blue', 10, 'white', 'green', 1]\n",
    "print(sort_mixed_list(mixed_list))"
   ]
  }
 ],
 "metadata": {
  "kernelspec": {
   "display_name": "3.10.0",
   "language": "python",
   "name": "python3"
  },
  "language_info": {
   "codemirror_mode": {
    "name": "ipython",
    "version": 3
   },
   "file_extension": ".py",
   "mimetype": "text/x-python",
   "name": "python",
   "nbconvert_exporter": "python",
   "pygments_lexer": "ipython3",
   "version": "3.10.0"
  }
 },
 "nbformat": 4,
 "nbformat_minor": 5
}
