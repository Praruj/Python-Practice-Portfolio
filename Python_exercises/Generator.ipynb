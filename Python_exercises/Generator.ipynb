{
 "cells": [
  {
   "cell_type": "markdown",
   "id": "e7fc14f0",
   "metadata": {},
   "source": [
    "# Generators:\n",
    "It is the powerful feature often presented mainly as a convenient way to define new kinds of iteration patterns. it fundamentally changes the whole execution model of functions. If a function uses yeild keyword, it defines an object known as a generator."
   ]
  },
  {
   "cell_type": "code",
   "execution_count": null,
   "id": "63eaebb0",
   "metadata": {},
   "outputs": [
    {
     "name": "stdout",
     "output_type": "stream",
     "text": [
      "counting down from 10\n",
      "T-minus 10\n",
      "T-minus 9\n",
      "T-minus 8\n",
      "T-minus 7\n",
      "T-minus 6\n",
      "T-minus 5\n",
      "T-minus 4\n",
      "T-minus 3\n",
      "T-minus 2\n",
      "T-minus 1\n",
      "counting down from 10\n"
     ]
    },
    {
     "data": {
      "text/plain": [
       "10"
      ]
     },
     "execution_count": 9,
     "metadata": {},
     "output_type": "execute_result"
    }
   ],
   "source": [
    "# use of generator is to produce value for use in iteration.\n",
    "def countdown(n):\n",
    "    print(f\"counting down from {n}\")\n",
    "    while n>0:\n",
    "        yield n  # it lets function pause and resume later, remembering where it left of. \n",
    "        n-=1\n",
    "for x in countdown(10):\n",
    "    print(\"T-minus\",x)\n",
    "c=countdown(10)\n",
    "next(c)\n",
    "\n",
    "# this program uses generator function called countdown(n). It is used to produce numbers starting from n down to 1, one at a time , for use in a loop or any iteration.\n",
    "# Generators let us produce values one at a time rather than computing  and sorting an entire list which is memory efficient. "
   ]
  }
 ],
 "metadata": {
  "kernelspec": {
   "display_name": "3.10.0",
   "language": "python",
   "name": "python3"
  },
  "language_info": {
   "codemirror_mode": {
    "name": "ipython",
    "version": 3
   },
   "file_extension": ".py",
   "mimetype": "text/x-python",
   "name": "python",
   "nbconvert_exporter": "python",
   "pygments_lexer": "ipython3",
   "version": "3.10.0"
  }
 },
 "nbformat": 4,
 "nbformat_minor": 5
}
