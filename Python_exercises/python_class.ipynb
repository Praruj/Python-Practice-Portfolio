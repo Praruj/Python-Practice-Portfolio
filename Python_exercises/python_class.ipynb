{
 "cells": [
  {
   "cell_type": "markdown",
   "id": "c3476f53",
   "metadata": {},
   "source": [
    "# *class* \n",
    "In OOP, classes represents real-world things and situation and we create objects based on these classes. when we write class, we define the general behaviour that a whole category of objects. \n",
    "\n",
    "**Why class?** \n",
    "- organize code: group related stuff, instead of loose variables\n",
    "- Reuse: make many from one blueprint.\n",
    "- Real world: like pandas DataFrames- under the hood, they are class. "
   ]
  },
  {
   "cell_type": "code",
   "execution_count": null,
   "id": "09b54021",
   "metadata": {},
   "outputs": [
    {
     "name": "stdout",
     "output_type": "stream",
     "text": [
      "<__main__.Penguin object at 0x00000224388F3D30>\n"
     ]
    }
   ],
   "source": [
    "# Defining a simple class (The blueprint).   Use class Name: capital letter convention. inside stuff for objects.\n",
    "\n",
    "\n",
    "class Penguin: \n",
    "    pass # Empty for now-like a blank template\n",
    "\n",
    "# create objects (instances)\n",
    "pete=Penguin()\n",
    "gina=Penguin()\n",
    "\n",
    "print(pete) # <Penguin object at 0x...> – It's alive!\n",
    "\n",
    "# pass: Placeholder. Objects exist but do nothing yet.\n",
    "# Hard Part Tip: Classes don't run code alone—objects do."
   ]
  },
  {
   "cell_type": "markdown",
   "id": "d604fb3c",
   "metadata": {},
   "source": [
    "Adding Data (attributes) with __int__ (The constructor)\n",
    "_init__ (dunder init) runs when you make an object. self = the object itself. "
   ]
  },
  {
   "cell_type": "code",
   "execution_count": null,
   "id": "ddeb5b1a",
   "metadata": {},
   "outputs": [
    {
     "name": "stdout",
     "output_type": "stream",
     "text": [
      "Adelie\n",
      "Biscoe\n"
     ]
    }
   ],
   "source": [
    "#step2 \n",
    "class Penguin:\n",
    "    def __init__(self,species,island):\n",
    "        self.species=species\n",
    "        self.island=island\n",
    "pete = Penguin('Adelie', 'Torgersen')\n",
    "gina = Penguin('Gentoo', 'Biscoe')\n",
    "\n",
    "print(pete.species)\n",
    "print(gina.island)\n",
    "\n",
    "# self.species = species: Stores input as object data. Each penguin gets its own!\n",
    "# Why Hard? self is automatic (Python passes it)—think \"me\" for the object."
   ]
  },
  {
   "cell_type": "code",
   "execution_count": 6,
   "id": "cdd76ac3",
   "metadata": {},
   "outputs": [
    {
     "name": "stdout",
     "output_type": "stream",
     "text": [
      "Adelie from Torgersen swims with 181mm flippers!\n"
     ]
    }
   ],
   "source": [
    "class Penguin:\n",
    "    def __init__(self, species, island, flipper_length):\n",
    "        self.species = species\n",
    "        self.island = island\n",
    "        self.flipper_length = flipper_length\n",
    "    \n",
    "    def swim(self):  # Method: action\n",
    "        return f\"{self.species} from {self.island} swims with {self.flipper_length}mm flippers!\"\n",
    "\n",
    "    def is_big(self):  # Another: logic\n",
    "        if self.flipper_length > 200:\n",
    "            return True\n",
    "        return False\n",
    "\n",
    "# Use\n",
    "pete = Penguin('Adelie', 'Torgersen', 181)\n",
    "print(pete.swim())  # Adelie from Torgersen swims...\n"
   ]
  }
 ],
 "metadata": {
  "kernelspec": {
   "display_name": ".venv",
   "language": "python",
   "name": "python3"
  },
  "language_info": {
   "codemirror_mode": {
    "name": "ipython",
    "version": 3
   },
   "file_extension": ".py",
   "mimetype": "text/x-python",
   "name": "python",
   "nbconvert_exporter": "python",
   "pygments_lexer": "ipython3",
   "version": "3.10.0"
  }
 },
 "nbformat": 4,
 "nbformat_minor": 5
}
