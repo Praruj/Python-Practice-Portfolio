{
 "cells": [
  {
   "cell_type": "markdown",
   "id": "e487ad07",
   "metadata": {},
   "source": [
    "# JSON (Java script object notation) is a syntax for storing and exchanging data. we can convert Python objects into JSON strings. JSON  is a lightweight, human-readable data format used for data interchange. It is commonly used for sending data between a server and a web application, or for storing configuration settings."
   ]
  },
  {
   "cell_type": "code",
   "execution_count": 20,
   "id": "26d07c38",
   "metadata": {},
   "outputs": [
    {
     "name": "stdout",
     "output_type": "stream",
     "text": [
      "<class 'dict'>\n",
      "{\"name\": \"Hari\", \"class\": \"VI\", \"age\": 24}\n"
     ]
    }
   ],
   "source": [
    "#Convert Python Object to JSON Data\n",
    "import json\n",
    "dict1={\n",
    "    \"name\":\"Hari\",\n",
    "    \"class\":\"VI\",\n",
    "    \"age\":24\n",
    "}\n",
    "print(type(dict1))\n",
    "j_data=json.dumps(dict1) #json.dumps() function to serialize the dictionary into JSON-formatted string. \n",
    "print(j_data)\n",
    "#j_data is string immutable and meant for storage or transmisison. \n",
    "# Time complexity: O(n) where n is total number of key-value pairs and nested elements in the dictionary. \n"
   ]
  },
  {
   "cell_type": "code",
   "execution_count": 21,
   "id": "f1589f49",
   "metadata": {},
   "outputs": [
    {
     "name": "stdout",
     "output_type": "stream",
     "text": [
      "\n",
      "JSON data:\n",
      "{'name': 'malan', 'class': 'I', 'age': 24}\n",
      "\n",
      "ame:  malan\n",
      "class: I\n",
      "age: 24\n"
     ]
    }
   ],
   "source": [
    "# Convert JSON data to python object\n",
    "import json\n",
    "json_object='{\"name\":\"malan\",\"class\":\"I\",\"age\":24}'\n",
    "# Convert JSON string to Python dictionary\n",
    "python_object=json.loads(json_object) #json.loads() resolves the json string into a python object. \n",
    "print(\"\\nJSON data:\")\n",
    "print(python_object)\n",
    "print(\"\\name: \",python_object[\"name\"]) # Print value of \"name\" key\n",
    "print(\"class:\",python_object[\"class\"]) \n",
    "print(\"age:\",python_object[\"age\"])\n",
    "\n",
    "\n",
    "# Time complexity: O(n), because resolving requires reading every character in the JSON string to translate it to python."
   ]
  },
  {
   "cell_type": "markdown",
   "id": "9c2b33d4",
   "metadata": {},
   "source": [
    "# **Summary**\n",
    "\n",
    "dumps() = Python object → JSON string.\n",
    "loads() = JSON string → Python object.\n",
    "dump and load work with files.\n",
    "dumps and loads work with strings."
   ]
  },
  {
   "cell_type": "code",
   "execution_count": 17,
   "id": "5db798a3",
   "metadata": {},
   "outputs": [
    {
     "name": "stdout",
     "output_type": "stream",
     "text": [
      "json dict :  {\"name\": \"DAvid\", \"age\": 12}\n",
      "json_list:  [\"red\", \"green\", \"matte\"]\n",
      "json string : \"hello world\"\n",
      "json integer :  \"hello world\"\n",
      "json float :  21.34\n",
      "json True :  true\n",
      "json False :  false\n",
      "json Null :  null\n"
     ]
    }
   ],
   "source": [
    "#convert Python objects into JSON strings. \n",
    "import json\n",
    "python_dict={\"name\":\"DAvid\",\"age\":12}\n",
    "python_list=[\"red\",\"green\",\"matte\"]\n",
    "python_str=\"hello world\"\n",
    "python_int=(1234)\n",
    "python_float=(21.34)\n",
    "python_T=(True)\n",
    "python_F=(False)\n",
    "python_N=(None)\n",
    "json_dict=json.dumps(python_dict)\n",
    "json_list=json.dumps(python_list)\n",
    "json_str=json.dumps(python_str)\n",
    "json_int=json.dumps(python_int)\n",
    "json_float=json.dumps(python_float)\n",
    "json_T=json.dumps(python_T)\n",
    "json_F=json.dumps(python_F)\n",
    "json_N=json.dumps(python_N)\n",
    "\n",
    "print(\"json dict : \", json_dict)\n",
    "print(\"json_list: \",json_list)\n",
    "print(\"json string :\",json_str)\n",
    "print(\"json integer : \", json_str)\n",
    "print(\"json float : \", json_float)\n",
    "print(\"json True : \", json_T)\n",
    "print(\"json False : \",json_F)\n",
    "print(\"json Null : \", json_N)"
   ]
  },
  {
   "cell_type": "markdown",
   "id": "f0568e8d",
   "metadata": {},
   "source": [
    "JSON simplifies, speeds up, and standardizes the way data is shared across the digital ecosystem, making it a cornerstone of modern software development and data communication."
   ]
  },
  {
   "cell_type": "code",
   "execution_count": 18,
   "id": "d9253ccb",
   "metadata": {},
   "outputs": [
    {
     "name": "stdout",
     "output_type": "stream",
     "text": [
      "\n",
      " JSON DATA: {\n",
      "    \"3\": 1,\n",
      "    \"4\": 2,\n",
      "    \"5\": 7\n",
      "}\n"
     ]
    }
   ],
   "source": [
    "# python dictionary to JSON data. (sorted by key)\n",
    "import json\n",
    "j_str={\"4\":2,\"5\":7,\"3\":1}\n",
    "print(\"\\n JSON DATA:\", json.dumps(j_str, sort_keys=True, indent=4))\n",
    "\n",
    "# serialize a python dictionary to human-readable JSON string.\n"
   ]
  },
  {
   "cell_type": "code",
   "execution_count": null,
   "id": "6868bfd3",
   "metadata": {},
   "outputs": [
    {
     "name": "stdout",
     "output_type": "stream",
     "text": [
      "{'a': 2, 'b': 2}\n"
     ]
    }
   ],
   "source": [
    "# access only unique key value of a python object.\n",
    "import json\n",
    "python_object='{\"a\":1,\"a\":2,\"b\":1,\"b\":2}' #input is neither string nor dictionary but still parses the string. so python cannot have duplicates so quoted with literals. \n",
    "json_obj=json.loads(python_object)  #convert JSON string into python dictionary object. \n",
    "print(json_obj)\n",
    "\n",
    "#Time complexity: json.loads() is roughly O(n), where n is length of JSON string. \n",
    "# This is useful wen reading data from API or web sources that return data as JSON strings. "
   ]
  }
 ],
 "metadata": {
  "kernelspec": {
   "display_name": "3.10.0",
   "language": "python",
   "name": "python3"
  },
  "language_info": {
   "codemirror_mode": {
    "name": "ipython",
    "version": 3
   },
   "file_extension": ".py",
   "mimetype": "text/x-python",
   "name": "python",
   "nbconvert_exporter": "python",
   "pygments_lexer": "ipython3",
   "version": "3.10.0"
  }
 },
 "nbformat": 4,
 "nbformat_minor": 5
}
