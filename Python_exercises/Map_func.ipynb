{
 "cells": [
  {
   "cell_type": "markdown",
   "id": "4f0e7151",
   "metadata": {},
   "source": [
    "# Map function :\n",
    "A given function to every item of an iterable (like a list) and returns an iterator (a map object) with the results.\n",
    "\n",
    "# Syntax:\n",
    "map(function,iterable...)   \\\n",
    "map() calls the function once for each item in the iterable\n",
    "if multiple iterables are provided, the function must take that many arguments, and map() stops when the shortest iterable is exhausted. \n",
    "\n",
    "So, map() helps us to transform every element in a list quickly and cleanly, easpecially when combined with lambda function. \n",
    "Time complexity of using map() is generally O(n), the same as manually, iterating through list with loop. so it only improves code readability and sometimes runtime efficiency in practise for large data sets. "
   ]
  },
  {
   "cell_type": "code",
   "execution_count": 6,
   "id": "b8678f0e",
   "metadata": {},
   "outputs": [
    {
     "name": "stdout",
     "output_type": "stream",
     "text": [
      "[1, 8, 27, 64, 125]\n"
     ]
    }
   ],
   "source": [
    "# triple numbers map\n",
    "nums=[1,2,3,4,5]\n",
    "result=list(map(lambda num: num*num*num,nums))\n",
    "print(result)"
   ]
  },
  {
   "cell_type": "markdown",
   "id": "aed4cd24",
   "metadata": {},
   "source": [
    "Diffference between map() and filter:   \n",
    "map() to change/ convert every elements. It returns value. \n",
    "<br>\n",
    "filter() to remove unwanted elements. and it returns true or False. \n",
    "<br>    \n",
    "Map Equivalent: [F(X) for x initerable] .\n",
    "<br> \n",
    "Filter Equivalent: [x for x in iterable if condition] .  "
   ]
  },
  {
   "cell_type": "code",
   "execution_count": 7,
   "id": "03cc5480",
   "metadata": {},
   "outputs": [
    {
     "name": "stdout",
     "output_type": "stream",
     "text": [
      "[4, 16, 36, 64]\n"
     ]
    }
   ],
   "source": [
    "# combining map() and filter() \n",
    "# first filter even numbers from array and square them.\n",
    "numbers=[1,2,3,4,5,6,7,8]\n",
    "result=list(map(lambda x:x**2, filter(lambda x:x%2==0,numbers)))\n",
    "print(result)"
   ]
  },
  {
   "cell_type": "code",
   "execution_count": 12,
   "id": "715f35f6",
   "metadata": {},
   "outputs": [
    {
     "name": "stdout",
     "output_type": "stream",
     "text": [
      "[12, 15, 18, 12]\n",
      "[12, 15, 18, 12]\n"
     ]
    }
   ],
   "source": [
    "# add three given lists using python and lambda.\n",
    "nums1=[1,2,3,4]\n",
    "nums2=[4,5,6,4]\n",
    "nums3=[7,8,9,4]\n",
    "result=list(map(lambda x,y,z: x+y+z,nums1,nums2,nums3))\n",
    "print(result)\n",
    "\n",
    "#equivalent with explicit loops:\n",
    "result=[]\n",
    "for i in range(len(nums1)):\n",
    "    result.append(nums1[i]+nums2[i]+nums3[i])\n",
    "print(result)"
   ]
  },
  {
   "cell_type": "code",
   "execution_count": null,
   "id": "d5880073",
   "metadata": {},
   "outputs": [
    {
     "name": "stdout",
     "output_type": "stream",
     "text": [
      "[['H', 'a', 'r', 'i'], ['s', 'h', 'y', 'a', 'm'], ['k', 'r', 'i', 's', 'h', 'n', 'a']]\n",
      "[['H', 'a', 'r', 'i'], ['s', 'h', 'y', 'a', 'm'], ['k', 'r', 'i', 's', 'h', 'n', 'a']]\n"
     ]
    }
   ],
   "source": [
    "#make a list of strings present inside list.\n",
    "student_name=[\"Hari\",\"shyam\",\"krishna\"]\n",
    "result=list(map(list,student_name))\n",
    "print(result)\n",
    "\n",
    "#anothe rapproach\n",
    "result=[]\n",
    "for name in student_name:\n",
    "    char_list=list(name)\n",
    "    result.append(char_list)\n",
    "print(result)\n",
    "\n",
    "# performance difference is usually small. since both must process each element in the list exactly once."
   ]
  },
  {
   "cell_type": "code",
   "execution_count": null,
   "id": "05131b5c",
   "metadata": {},
   "outputs": [
    {
     "name": "stdout",
     "output_type": "stream",
     "text": [
      "[10, 400, 27000, 2560000]\n",
      "[10, 400, 27000, 2560000]\n"
     ]
    }
   ],
   "source": [
    "# power list map\n",
    "bases=[10,20,30,40]\n",
    "index=[1,2,3,4]\n",
    "result=list(map(pow,bases,index))\n",
    "print(result)\n",
    "\n",
    "#another explicit way to solve this problem. \n",
    "result=[]\n",
    "for i in range(len(bases)):\n",
    "    result.append(bases[i]**index[i])\n",
    "print(result)"
   ]
  },
  {
   "cell_type": "code",
   "execution_count": null,
   "id": "278f309a",
   "metadata": {},
   "outputs": [
    {
     "name": "stdout",
     "output_type": "stream",
     "text": [
      "[16, 25, 4, 81]\n",
      "[16, 25, 4, 81]\n",
      "[16, 25, 4, 81]\n"
     ]
    }
   ],
   "source": [
    "#square the elements using list using the map() function. \n",
    "\n",
    "nums=[4,5,2,9]\n",
    "result=list(map(lambda n: n*n,nums))\n",
    "print(result)\n",
    "\n",
    "#another approach by creating def function as well.\n",
    "def square(n):\n",
    "    return n*n\n",
    "result=list(map(square,nums))\n",
    "print(result)\n",
    "\n",
    "#another expilict way of using loop\n",
    "result=[]\n",
    "for num in nums:\n",
    "    result.append(num*num)\n",
    "print(result)\n",
    "\n",
    "#hence, these are three different ways to solve this problem but our focus will be in map() function. "
   ]
  },
  {
   "cell_type": "code",
   "execution_count": 25,
   "id": "7538160d",
   "metadata": {},
   "outputs": [
    {
     "name": "stdout",
     "output_type": "stream",
     "text": [
      "{('D', 'd'), ('A', 'a'), ('B', 'b'), ('C', 'c'), ('E', 'e')}\n",
      "{('D', 'd'), ('A', 'a'), ('B', 'b'), ('C', 'c'), ('E', 'e')}\n",
      "{('D', 'd'), ('A', 'a'), ('B', 'b'), ('C', 'c'), ('E', 'e')}\n"
     ]
    }
   ],
   "source": [
    "# case conversion and ddup map\n",
    "def change_case(s):\n",
    "    return str(s).upper(), str(s).lower()\n",
    "characters={\"a\",\"b\",\"c\",\"D\",\"E\"}\n",
    "result=set(map(change_case,characters))\n",
    "print(result)\n",
    "\n",
    "#another simple expilict loop version\n",
    "characters={\"a\",\"b\",\"c\",\"D\",\"E\"}\n",
    "result=set()\n",
    "for char in characters:\n",
    "    upper_char=char.upper()\n",
    "    lower_char=char.lower()\n",
    "    result.add((upper_char,lower_char))\n",
    "print(result)\n",
    "\n",
    "\n",
    "#one liner using map() to convert each character in a set to a tuple of its uppercase and lowercase forms.\n",
    "result=set(map(lambda char: (char.upper(),char.lower()),characters))\n",
    "print(result)"
   ]
  },
  {
   "cell_type": "code",
   "execution_count": null,
   "id": "a883e55c",
   "metadata": {},
   "outputs": [
    {
     "name": "stdout",
     "output_type": "stream",
     "text": [
      "[{'science': 88, 'English': 90}, {'science': 90, 'English': 90}, {'science': 92, 'English': 88}, {'science': 94, 'English': 23}]\n"
     ]
    }
   ],
   "source": [
    "#dictionary of list into lists of dictionaies using map function. \n",
    "\n",
    "def list_of_dicts(marks):\n",
    "    result=map(dict,zip(*[[(key,val) for val in value]for key,value in marks.items()]))\n",
    "    return list(result)\n",
    "marks={\"science\":[88,90,92,94],\"English\":[90,90,88,23]}\n",
    "print(list_of_dicts(marks))\n",
    "\n",
    "\n"
   ]
  },
  {
   "cell_type": "code",
   "execution_count": 28,
   "id": "19e41816",
   "metadata": {},
   "outputs": [
    {
     "name": "stdout",
     "output_type": "stream",
     "text": [
      "[['y', 'a', 'g', 'a', 'm', 'i'], ['s', 'a', 'g', 'a', 'm', 'i'], ['d', 'e', 'a', 't', 'h', 'n', 'o', 't', 'e']]\n"
     ]
    }
   ],
   "source": [
    "# list of strings into lists of lists using map function.\n",
    "def strings_to_list(str):\n",
    "    result=map(list,str)\n",
    "    return list(result)\n",
    "names=[\"yagami\",\"sagami\",\"deathnote\"]\n",
    "print(strings_to_list(names))"
   ]
  },
  {
   "cell_type": "code",
   "execution_count": null,
   "id": "1bb3632c",
   "metadata": {},
   "outputs": [
    {
     "name": "stdout",
     "output_type": "stream",
     "text": [
      "['red pink', 'white black', 'orange green']\n"
     ]
    }
   ],
   "source": [
    "# Tuples to strings map. \n",
    "def tuples_to_list(lst):\n",
    "    result=list(map(\" \".join,lst)) #convert map object to alist and return and result. and join to concatenate elements with in each tuple and using space as seperator. \n",
    "    return result\n",
    "colors = [('red', 'pink'), ('white', 'black'), ('orange', 'green')]\n",
    "print(tuples_to_list(colors))"
   ]
  }
 ],
 "metadata": {
  "kernelspec": {
   "display_name": "3.10.0",
   "language": "python",
   "name": "python3"
  },
  "language_info": {
   "codemirror_mode": {
    "name": "ipython",
    "version": 3
   },
   "file_extension": ".py",
   "mimetype": "text/x-python",
   "name": "python",
   "nbconvert_exporter": "python",
   "pygments_lexer": "ipython3",
   "version": "3.10.0"
  }
 },
 "nbformat": 4,
 "nbformat_minor": 5
}
