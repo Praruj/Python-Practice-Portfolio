{
 "cells": [
  {
   "cell_type": "code",
   "execution_count": 2,
   "id": "2d3df970",
   "metadata": {},
   "outputs": [
    {
     "data": {
      "text/plain": [
       "-5"
      ]
     },
     "execution_count": 2,
     "metadata": {},
     "output_type": "execute_result"
    }
   ],
   "source": [
    "#exercise of list.\n",
    "#sum of elements of list.\n",
    "def sum_list(items):\n",
    "    sum_num=0\n",
    "    for item in items:\n",
    "        sum_num+=item\n",
    "    return sum_num\n",
    "sum_list([1,2-8])"
   ]
  },
  {
   "cell_type": "code",
   "execution_count": 26,
   "id": "3e2a8dda",
   "metadata": {},
   "outputs": [
    {
     "data": {
      "text/plain": [
       "70"
      ]
     },
     "execution_count": 26,
     "metadata": {},
     "output_type": "execute_result"
    }
   ],
   "source": [
    "#finding highest value of list using for i in range\n",
    "def highest(items):\n",
    "    compare=items[0]\n",
    "    for i in  range(1,len(items)):\n",
    "        if items[i]>compare:\n",
    "            compare=items[i]\n",
    "    return compare\n",
    "highest([70,20,60])"
   ]
  },
  {
   "cell_type": "code",
   "execution_count": 27,
   "id": "b4959836",
   "metadata": {},
   "outputs": [
    {
     "data": {
      "text/plain": [
       "10"
      ]
     },
     "execution_count": 27,
     "metadata": {},
     "output_type": "execute_result"
    }
   ],
   "source": [
    "#finding the smallest number in list.\n",
    "def smallest(items):\n",
    "    compare=items[0]\n",
    "    for i in range(len(items)):\n",
    "        if items[i]<compare:\n",
    "            compare=items[i]\n",
    "    return compare\n",
    "smallest([10,20,30])"
   ]
  },
  {
   "cell_type": "code",
   "execution_count": 30,
   "id": "f2c88d69",
   "metadata": {},
   "outputs": [
    {
     "data": {
      "text/plain": [
       "2"
      ]
     },
     "execution_count": 30,
     "metadata": {},
     "output_type": "execute_result"
    }
   ],
   "source": [
    "#count strings with smae start and end This question asks for a program that counts how many strings in a given list meet two conditions:\n",
    "# The string is at least 2 characters long.\n",
    "# The first and last characters of the string are the same.\n",
    "def count(items):\n",
    "    count=0\n",
    "    for item in items:\n",
    "        if len(item)>2 and item[0]==item[-1]:\n",
    "            count+=1\n",
    "    return count\n",
    "count([\"abc\",\"xyz\",\"aba\",\"121\",\"123\"])"
   ]
  },
  {
   "cell_type": "code",
   "execution_count": 31,
   "id": "02071111",
   "metadata": {},
   "outputs": [
    {
     "data": {
      "text/plain": [
       "[(2, 1), (1, 2), (2, 3), (4, 4), (2, 5)]"
      ]
     },
     "execution_count": 31,
     "metadata": {},
     "output_type": "execute_result"
    }
   ],
   "source": [
    "#sort tuple by last elements in each tuple from a given lsit of non-empty tuples. \n",
    "#define a function called last that takes single argument \"n\" and returns the last element of \"n\"\n",
    "def last(n):\n",
    "    return n[-1]\n",
    "def sorted_list(items):\n",
    "    return sorted(items,key=last)\n",
    "sorted_list([(2, 5), (1, 2), (4, 4), (2, 3), (2, 1)])"
   ]
  },
  {
   "cell_type": "code",
   "execution_count": null,
   "id": "213a18cc",
   "metadata": {},
   "outputs": [
    {
     "data": {
      "text/plain": [
       "[(2, 1), (1, 2), (2, 3), (4, 4), (2, 5)]"
      ]
     },
     "execution_count": 32,
     "metadata": {},
     "output_type": "execute_result"
    }
   ],
   "source": [
    "#another way\n",
    "def sorted_list(items):\n",
    "        return sorted(items,key=lambda n:n[-1]) #lambda function as argument\n",
    "sorted_list([(2, 5), (1, 2), (4, 4), (2, 3), (2, 1)])"
   ]
  },
  {
   "cell_type": "code",
   "execution_count": null,
   "id": "f2ea2467",
   "metadata": {},
   "outputs": [
    {
     "data": {
      "text/plain": [
       "[70, 20, 60, 40]"
      ]
     },
     "execution_count": 42,
     "metadata": {},
     "output_type": "execute_result"
    }
   ],
   "source": [
    "#remove duplicates from the list. \n",
    "def duplicates(items):\n",
    "    new_items=[] #creating new list\n",
    "    for item in items:\n",
    "        if item not in new_items: #this is slow O(n) fo each items. \n",
    "            new_items.append(item)\n",
    "    return new_items\n",
    "duplicates([70,20,60,40,20])\n",
    "\n",
    "#another way using set, because set is collection of well defined objects. only unique elemensts will be present. \n",
    "def duplicates(items):\n",
    "    return list(set(items))\n",
    "duplicates([70,20,60,40,20])\n",
    "#this doesnot preserve the order of items inside of list so lets try another method.\n",
    "def duplicates(items):\n",
    "    unique=[]\n",
    "    dup_items=set()\n",
    "    for item in items:\n",
    "        if item not in dup_items:\n",
    "            unique.append(item)\n",
    "            dup_items.add(item)\n",
    "    return unique\n",
    "duplicates([70,20,60,40,20])\n",
    "#without set this program could be slower for larger lists. "
   ]
  },
  {
   "cell_type": "code",
   "execution_count": null,
   "id": "cbf23d0b",
   "metadata": {},
   "outputs": [
    {
     "data": {
      "text/plain": [
       "'the value is [12]'"
      ]
     },
     "execution_count": 46,
     "metadata": {},
     "output_type": "execute_result"
    }
   ],
   "source": [
    "#program to check wether list is empty or not. \n",
    "def empty_list(l):\n",
    "    if not l:\n",
    "        return \"list is empty\"\n",
    "    else:\n",
    "        return f\"the value is {l}\"\n",
    "empty_list([12])"
   ]
  },
  {
   "cell_type": "code",
   "execution_count": null,
   "id": "5eb4527f",
   "metadata": {},
   "outputs": [
    {
     "data": {
      "text/plain": [
       "[12, 13, 14]"
      ]
     },
     "execution_count": 52,
     "metadata": {},
     "output_type": "execute_result"
    }
   ],
   "source": [
    "#copy the list\n",
    "def copylist(items):\n",
    "    newlist=[]\n",
    "    for item in items:\n",
    "        newlist.append(item)\n",
    "    return newlist\n",
    "copylist([12,13,14])\n",
    "#this loop runs n times, and each iteration does an 0(1) append so time complexity is O(n)\n",
    "\n",
    "#another approach\n",
    "def copylist(items):\n",
    "    newlist=items[:]\n",
    "    return newlist\n",
    "copylist([12,13,14])\n",
    "#both are O(n) time and space complexities but slicing method can be much more efficient. \n",
    "#slicing runs faster in practise. slicing has better run time. "
   ]
  },
  {
   "cell_type": "code",
   "execution_count": 70,
   "id": "0efe23d9",
   "metadata": {},
   "outputs": [
    {
     "name": "stdout",
     "output_type": "stream",
     "text": [
      "['read', 'this', 'name', 'months,', 'will', 'know', 'what', 'holds?']\n"
     ]
    }
   ],
   "source": [
    "#find the words in list which is longer than n. this program when input is in list. \n",
    "def longer(list1,n):\n",
    "    list2=[]\n",
    "    for item in list1:\n",
    "        if len(item)>n:\n",
    "            list2.append(item)\n",
    "    return list2\n",
    "longer([\"car\",\"apples\",\"Ball\"],5)\n",
    "\n",
    "#when input is string no list. \n",
    "def longer(str,n):\n",
    "    long_words=[]\n",
    "    text=str.split(\" \")\n",
    "    for x in text:\n",
    "        if len(x)>n:\n",
    "            long_words.append(x)\n",
    "    return long_words\n",
    "print(longer(\"If I read this name in 6 months, will I know what it holds?\",3))"
   ]
  },
  {
   "cell_type": "code",
   "execution_count": 10,
   "id": "8cc3a8f2",
   "metadata": {},
   "outputs": [
    {
     "data": {
      "text/plain": [
       "[13]"
      ]
     },
     "execution_count": 10,
     "metadata": {},
     "output_type": "execute_result"
    }
   ],
   "source": [
    "#check common member between two list\n",
    "def common_number(list1,list2):\n",
    "    newlist=[]\n",
    "    for num in list1:\n",
    "        if num in list2:\n",
    "            newlist.append(num)\n",
    "    return newlist\n",
    "common_number([12,13],[13,11])\n",
    "\n",
    "#can be slow for large lists due to the in check (O(m) per element).\n",
    "#maybe we can use set intersections like & set(list1)& set(list2)\n",
    "#list2 (O(n + m)) or set intersection (O(min(n, m))).\n",
    "def common_number(list1,list2):\n",
    "    return list(set(list1)&set(list2))\n",
    "common_number([12,13],[13,11])\n",
    "\n",
    "#from nested loop another approach.\n",
    "def common_number(list1,list2):\n",
    "    result= False  \n",
    "    for x in list1:\n",
    "        for y in list2:\n",
    "            if x==y:\n",
    "                result=True\n",
    "                return result\n",
    "common_number([12,13],[13,11])      \n",
    "#slow for large list due to checking every pair(O(n*m))\n",
    "\n",
    "#another method: \n",
    "def common_number(list1,list2):\n",
    "    set_list2=set(list2)\n",
    "    new_list=[]\n",
    "    for item in list1:\n",
    "        if item in  set_list2:\n",
    "            new_list.append(item)\n",
    "    return new_list\n",
    "common_number([12,13],[13,11])\n",
    "#time complexity O(n + m) (n = len(list1), m = len(list2)).\n",
    "#using set intersection is best solution. "
   ]
  },
  {
   "cell_type": "code",
   "execution_count": 21,
   "id": "d477367a",
   "metadata": {},
   "outputs": [
    {
     "data": {
      "text/plain": [
       "['Green', 'White', 'Black']"
      ]
     },
     "execution_count": 21,
     "metadata": {},
     "output_type": "execute_result"
    }
   ],
   "source": [
    "#write a python program to remove sepecific element from list. i.e 0,4th and 5th elements..\n",
    "def remove_word(colors):\n",
    "    return[color for i,color in enumerate(colors) if i not in (0,4,5)]\n",
    "remove_word(['red','Green', 'White', 'Black', 'Pink', 'Yellow'])\n",
    "#O(n) where n is len(colors).loops once,index checks are (O(1))"
   ]
  },
  {
   "cell_type": "code",
   "execution_count": 22,
   "id": "e99754a6",
   "metadata": {},
   "outputs": [
    {
     "name": "stdout",
     "output_type": "stream",
     "text": [
      "[[['#', '#', '#', '#', '#', '#'], ['#', '#', '#', '#', '#', '#'], ['#', '#', '#', '#', '#', '#'], ['#', '#', '#', '#', '#', '#']], [['#', '#', '#', '#', '#', '#'], ['#', '#', '#', '#', '#', '#'], ['#', '#', '#', '#', '#', '#'], ['#', '#', '#', '#', '#', '#']], [['#', '#', '#', '#', '#', '#'], ['#', '#', '#', '#', '#', '#'], ['#', '#', '#', '#', '#', '#'], ['#', '#', '#', '#', '#', '#']]]\n"
     ]
    }
   ],
   "source": [
    "#generate 3D array\n",
    "array=[[[\"#\" for col in range(6)]for col in range(4)]for col in range(3)]\n",
    "print(array)"
   ]
  },
  {
   "cell_type": "code",
   "execution_count": 24,
   "id": "655c4228",
   "metadata": {},
   "outputs": [
    {
     "data": {
      "text/plain": [
       "[7, 25, 27]"
      ]
     },
     "execution_count": 24,
     "metadata": {},
     "output_type": "execute_result"
    }
   ],
   "source": [
    "#remove even number from list.\n",
    "def remove_even(items):\n",
    "    odd_num=[item for item in items if item%2!=0]\n",
    "    return odd_num\n",
    "remove_even([7, 8, 120, 25, 44, 20, 27])\n",
    "#time complexity is O(n) where n is len(items). single pass through list\n",
    "#as list comprehension is optimized.\n"
   ]
  },
  {
   "cell_type": "code",
   "execution_count": 40,
   "id": "cc90369d",
   "metadata": {},
   "outputs": [
    {
     "name": "stdout",
     "output_type": "stream",
     "text": [
      "[1, 4, 9, 16, 25]\n",
      "[256, 289, 324, 361, 400]\n",
      "[1, 4, 9, 16, 25]\n",
      "[256, 289, 324, 361, 400]\n"
     ]
    }
   ],
   "source": [
    "#generate square number in Range\n",
    "def print_even():\n",
    "    l=list() #O(1)\n",
    "    for i in range(1,21): #O(n)\n",
    "        l.append(i**2)\n",
    "    print(l[:5]) #O(1)\n",
    "    print(l[-5:]) #O(1)\n",
    "print_even()\n",
    "#it has the time complexity of O(n)\n",
    "\n",
    "#another efficient way from list comprehension\n",
    "def print_even():\n",
    "    first_five=[i**2 for i in range(1,6)] #O(5)\n",
    "    last_five=[i**2 for i in range(16,21)] #O(5)\n",
    "    print(first_five) #O(1)\n",
    "    print(last_five)  #O(1)\n",
    "print_even()\n",
    "\n",
    "#it has time complexity of O(1)"
   ]
  },
  {
   "cell_type": "code",
   "execution_count": 41,
   "id": "664675d6",
   "metadata": {},
   "outputs": [
    {
     "name": "stdout",
     "output_type": "stream",
     "text": [
      "True\n"
     ]
    }
   ],
   "source": [
    "#check if all numbers are prime. return true if all elemens are prime or not.\n",
    "def test(nums):\n",
    "    if not nums:\n",
    "        return True #if list is empty, returns true\n",
    "    for num in nums:\n",
    "        if not is_prime(num):\n",
    "            return False\n",
    "    return True #if all numbers are prime, return True\n",
    "def is_prime(n):\n",
    "    if not isinstance(n,int) or n<=1: #check if n is not an integer of <=1. \n",
    "        return False\n",
    "    if n==2: #only even prime number is 2. \n",
    "        return True\n",
    "    for x in range(2,n): #check for divisibility from 2 to n-1. \n",
    "        if n%x==0:\n",
    "            return False\n",
    "    return True\n",
    "print(test([2, 3, 5, 7]))\n",
    "\n",
    "#the toatal time complexity in general case O(k*m) where k is length of input list nums. M is largest number in list. "
   ]
  },
  {
   "cell_type": "code",
   "execution_count": 45,
   "id": "cce4acdb",
   "metadata": {},
   "outputs": [
    {
     "name": "stdout",
     "output_type": "stream",
     "text": [
      "[9, 3, 5, 8, 2, 4, 6]\n"
     ]
    }
   ],
   "source": [
    "# Python: Difference between the two lists\n",
    "list1=[1,3,5,7,9]\n",
    "list2=[1,2,4,6,7,8]\n",
    "diff1= list(set(list1)-set(list2)) #(O(n))\n",
    "diff2=list(set(list2)-set(list1))  #O(m) total= O(n+m)\n",
    "total=diff1+diff2\n",
    "print(total)\n",
    "#the differnce operation (set(list1)-set(list2)) makes the operation faster and simple\n",
    "# the time complexity in average case could be O(n+m). "
   ]
  },
  {
   "cell_type": "code",
   "execution_count": 48,
   "id": "878f1d17",
   "metadata": {},
   "outputs": [
    {
     "name": "stdout",
     "output_type": "stream",
     "text": [
      "ab\n"
     ]
    }
   ],
   "source": [
    "#Convert List to String\n",
    "s=[\"a\",\"b\"]\n",
    "v=\"\".join(s)\n",
    "print(v)"
   ]
  },
  {
   "cell_type": "code",
   "execution_count": 51,
   "id": "2d4613af",
   "metadata": {},
   "outputs": [
    {
     "data": {
      "text/plain": [
       "[1, 2, 3, 4, 5, 6, 7, 8]"
      ]
     },
     "execution_count": 51,
     "metadata": {},
     "output_type": "execute_result"
    }
   ],
   "source": [
    "#flatten list\n",
    "def flatten(nums):\n",
    "    return [x for num in nums for x in num]\n",
    "flatten([[1, 2, 3, 4], [5, 6, 7, 8]])\n",
    "\n",
    "#or another approach without list comprehension \n",
    "def flatten(nums):\n",
    "    new=[]\n",
    "    for num in nums:\n",
    "        for x in num:\n",
    "            new.append(x)\n",
    "    return new\n",
    "flatten([[1, 2, 3, 4], [5, 6, 7, 8]])\n",
    "\n",
    "#time complexities in both case is O(n). because both method works same way. iterate over all elements in all sublists and build a new list. "
   ]
  },
  {
   "cell_type": "code",
   "execution_count": 53,
   "id": "c7f58eec",
   "metadata": {},
   "outputs": [
    {
     "name": "stdout",
     "output_type": "stream",
     "text": [
      "[0, 1, 2, 4, 'red', 'black']\n"
     ]
    }
   ],
   "source": [
    "#concatenating two list\n",
    "list1=[0,1,2,4]\n",
    "list2=[\"red\",\"black\"]\n",
    "final_list=list1+list2\n",
    "print(final_list)"
   ]
  },
  {
   "cell_type": "code",
   "execution_count": null,
   "id": "511600f3",
   "metadata": {},
   "outputs": [
    {
     "name": "stdout",
     "output_type": "stream",
     "text": [
      "Green\n"
     ]
    }
   ],
   "source": [
    "#random value from the list\n",
    "import random\n",
    "color=['Red', 'Blue', 'Green', 'White', 'Black']\n",
    "print(random.choice(color)) #time complexity is O(1), using a random index and printing is also O(1).\n",
    "\n",
    "#using functions\n",
    "import random\n",
    "def random_color(colors):\n",
    "    random.choice(colors)\n",
    "random_color(['Red', 'Blue', 'Green', 'White', 'Black'])\n",
    "\n",
    "#can be used for list with numbers awith smae time complexities. "
   ]
  },
  {
   "cell_type": "code",
   "execution_count": null,
   "id": "6cc10ad2",
   "metadata": {},
   "outputs": [
    {
     "ename": "",
     "evalue": "",
     "output_type": "error",
     "traceback": [
      "\u001b[1;31mRunning cells with '3.10.0 (Python 3.10.0)' requires the ipykernel package.\n",
      "\u001b[1;31mInstall 'ipykernel' into the Python environment. \n",
      "\u001b[1;31mCommand: 'c:/Users/thapa.pra/.pyenv/pyenv-win/versions/3.10.0/python.exe -m pip install ipykernel -U --force-reinstall'"
     ]
    }
   ],
   "source": [
    "#find the second larget number in list\n",
    "def second_large(nums):\n",
    "    if len(nums)<2:\n",
    "        return \n",
    "    if len(nums)==2 and nums[0]==nums[1]:\n",
    "        return\n",
    "    dup_items=set()\n",
    "    uniq_items=[]\n",
    "    for num in nums:\n",
    "        if num not in dup_items:\n",
    "            uniq_items.append(num)\n",
    "            dup_items.add(num)\n",
    "    uniq_items.sort()\n",
    "    return uniq_items[-2]\n",
    "second_large([1, 2, 3, 4, 4])"
   ]
  }
 ],
 "metadata": {
  "kernelspec": {
   "display_name": "3.10.0",
   "language": "python",
   "name": "python3"
  },
  "language_info": {
   "codemirror_mode": {
    "name": "ipython",
    "version": 3
   },
   "file_extension": ".py",
   "mimetype": "text/x-python",
   "name": "python",
   "nbconvert_exporter": "python",
   "pygments_lexer": "ipython3",
   "version": "3.10.0"
  }
 },
 "nbformat": 4,
 "nbformat_minor": 5
}
