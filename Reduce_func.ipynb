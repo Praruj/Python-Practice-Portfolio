{
 "cells": [
  {
   "cell_type": "markdown",
   "id": "34c52671",
   "metadata": {},
   "source": [
    "# Reduce Function\n",
    "It is a function and an iterable and applies the function cumulatively to the items of the iterable. It reduces the iterable to a single commulative value.\n",
    "\n",
    "# Syntax <br>\n",
    "from functools import reduce <br>\n",
    "reduce(function,iterable,initializer=none)\n",
    "1. function: that takes two arguments and returns one value.\n",
    "2. iterable: a sequence like list, tuple etc. \n",
    "3. initializer(optional): A starting value placed before the iterables first item. "
   ]
  },
  {
   "cell_type": "code",
   "execution_count": 2,
   "id": "2dfee877",
   "metadata": {},
   "outputs": [
    {
     "name": "stdout",
     "output_type": "stream",
     "text": [
      "15\n",
      "120\n"
     ]
    }
   ],
   "source": [
    "# Problem 1: Basic usage\n",
    "from functools import reduce\n",
    "def add(x,y):\n",
    "    return x+y\n",
    "a=[1,2,3,4,5]\n",
    "res=reduce(add,a)\n",
    "print(res)\n",
    "\n",
    "#using it with lambda function.\n",
    "res=reduce(lambda x,y:x*y,a)\n",
    "print(res)"
   ]
  },
  {
   "cell_type": "markdown",
   "id": "53469413",
   "metadata": {},
   "source": [
    "1. Reduce condenses iterable elements into a single value by repeatedly applying binary function. \n",
    "2. Reduce can make code more concise and declarative, while loops are often considered more explicit and sometimes easier to read for beginners. \n",
    "3. but raw loops can be slightly faster in some implementation due to less function call overhead. "
   ]
  },
  {
   "cell_type": "code",
   "execution_count": 3,
   "id": "eced2054",
   "metadata": {},
   "outputs": [
    {
     "name": "stdout",
     "output_type": "stream",
     "text": [
      "5\n"
     ]
    }
   ],
   "source": [
    "# Problem 2: Find the maximum number in a list using lambda\n",
    "\n",
    "from functools import reduce\n",
    "max_num=reduce(lambda a,b: a if a>b else b, [1,2,3,4,5])\n",
    "print(max_num)"
   ]
  },
  {
   "cell_type": "code",
   "execution_count": 4,
   "id": "c7a0532a",
   "metadata": {},
   "outputs": [
    {
     "name": "stdout",
     "output_type": "stream",
     "text": [
      "120\n"
     ]
    }
   ],
   "source": [
    "# problem3 : to find the factorial \n",
    "from functools import reduce\n",
    "n=5\n",
    "factorial=reduce(lambda x,y :x*y,range(1,n+1))\n",
    "print(factorial)"
   ]
  },
  {
   "cell_type": "code",
   "execution_count": 5,
   "id": "c0d710d1",
   "metadata": {},
   "outputs": [
    {
     "name": "stdout",
     "output_type": "stream",
     "text": [
      "[2, 3, 1, 2, 4, 5]\n"
     ]
    }
   ],
   "source": [
    "# Problem 4: flatenning list of lists:\n",
    "\n",
    "from functools import reduce\n",
    "lists=[[2,3],[1,2],[4,5]]\n",
    "flattened=reduce(lambda x,y: x+y,lists)\n",
    "print(flattened)"
   ]
  }
 ],
 "metadata": {
  "kernelspec": {
   "display_name": "3.10.0",
   "language": "python",
   "name": "python3"
  },
  "language_info": {
   "codemirror_mode": {
    "name": "ipython",
    "version": 3
   },
   "file_extension": ".py",
   "mimetype": "text/x-python",
   "name": "python",
   "nbconvert_exporter": "python",
   "pygments_lexer": "ipython3",
   "version": "3.10.0"
  }
 },
 "nbformat": 4,
 "nbformat_minor": 5
}
