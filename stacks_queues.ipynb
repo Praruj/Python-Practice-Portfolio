{
 "cells": [
  {
   "cell_type": "markdown",
   "id": "73cf5a67",
   "metadata": {},
   "source": [
    "# Stacks and Queue\n",
    "\n",
    "stack is a data structure based on LIFO (last in first out), where last items added is first to be removed. \n",
    "meanwhile,\n",
    "Queues in python is FIFO (First in, First out) based data structure where first item addede is the first to be removed.  \n"
   ]
  },
  {
   "cell_type": "code",
   "execution_count": null,
   "id": "7a66c934",
   "metadata": {},
   "outputs": [
    {
     "name": "stdout",
     "output_type": "stream",
     "text": [
      "['ram', 'hari', 'anthony', 'shyam', 'danish']\n",
      "danish\n",
      "['ram', 'hari', 'anthony', 'shyam']\n"
     ]
    }
   ],
   "source": [
    "stack=[\"ram\",\"hari\",\"anthony\"]\n",
    "stack.append(\"shyam\")\n",
    "stack.append(\"danish\")\n",
    "print(stack)\n",
    "\n",
    "print(stack.pop()) #removed the last item\n",
    "print(stack)\n",
    "\n",
    "# This code demonstrate the example of LIFO. "
   ]
  },
  {
   "cell_type": "code",
   "execution_count": null,
   "id": "fee75400",
   "metadata": {},
   "outputs": [
    {
     "name": "stdout",
     "output_type": "stream",
     "text": [
      "['sita', 'rita', 'hari']\n"
     ]
    }
   ],
   "source": [
    "Queue=[\"gita\",\"sita\",\"rita\"]\n",
    "Queue.append(\"hari\")\n",
    "Queue.pop(0)\n",
    "print(Queue)\n",
    "\n",
    "# This code removes the first element added in first. "
   ]
  },
  {
   "cell_type": "markdown",
   "id": "1e5d9436",
   "metadata": {},
   "source": [
    "deque stands for double-ended queue.\n",
    "\n",
    "It is an optimized data structure that supports adding and removing elements from both ends efficiently (fast append and pop operations).\n",
    "\n",
    "It is part of Python's collections module, designed for queue and stack use cases."
   ]
  },
  {
   "cell_type": "code",
   "execution_count": 7,
   "id": "f923a10c",
   "metadata": {},
   "outputs": [
    {
     "name": "stdout",
     "output_type": "stream",
     "text": [
      "shyam\n",
      "a\n"
     ]
    }
   ],
   "source": [
    "# using collections.deque\n",
    "from collections import deque\n",
    "#stack\n",
    "stack=deque()\n",
    "stack.append(\"ram\")\n",
    "stack.append(\"shyam\")\n",
    "print(stack.pop())\n",
    "\n",
    "#Queue\n",
    "Queue=deque()\n",
    "Queue.append(\"a\")\n",
    "Queue.append(\"b\")\n",
    "print(Queue.popleft())"
   ]
  }
 ],
 "metadata": {
  "kernelspec": {
   "display_name": "3.10.0",
   "language": "python",
   "name": "python3"
  },
  "language_info": {
   "codemirror_mode": {
    "name": "ipython",
    "version": 3
   },
   "file_extension": ".py",
   "mimetype": "text/x-python",
   "name": "python",
   "nbconvert_exporter": "python",
   "pygments_lexer": "ipython3",
   "version": "3.10.0"
  }
 },
 "nbformat": 4,
 "nbformat_minor": 5
}
