{
 "cells": [
  {
   "cell_type": "markdown",
   "id": "f153a819",
   "metadata": {},
   "source": [
    "# Advanced Python exercies of List"
   ]
  },
  {
   "cell_type": "code",
   "execution_count": null,
   "id": "b7398ee8",
   "metadata": {},
   "outputs": [
    {
     "name": "stdout",
     "output_type": "stream",
     "text": [
      "[40, 30, 20, 10, 50, 60, 70, 80]\n"
     ]
    }
   ],
   "source": [
    "def reverse_list(lst,start,end):\n",
    "    while start<end:\n",
    "        lst[start],lst[end]=lst[end],lst[start]\n",
    "        start+=1\n",
    "        end-=1\n",
    "    return lst\n",
    "\n",
    "start=2\n",
    "end=4\n",
    "lst = [10, 20, 30, 40, 50, 60, 70, 80]\n",
    "print(reverse_list(lst, 0, 3))\n",
    "\n",
    "# this is sliding window example. But this disturbs the real order of the original ist. "
   ]
  },
  {
   "cell_type": "code",
   "execution_count": null,
   "id": "6419ca4c",
   "metadata": {},
   "outputs": [
    {
     "name": "stdout",
     "output_type": "stream",
     "text": [
      "True\n",
      "False\n",
      "False\n",
      "False\n"
     ]
    }
   ],
   "source": [
    "# check if a list is palindrome or not.\n",
    "\n",
    "# using list concatenation:\n",
    "def is_list_palindrome(lst):\n",
    "    rev = []\n",
    "    for item in lst:\n",
    "        rev = [item] + rev  # concatenation\n",
    "    return lst == rev\n",
    "\n",
    "# Test\n",
    "print(is_list_palindrome([1, 2, 3, 2, 1]))  \n",
    "print(is_list_palindrome([1, 2, 3]))        \n",
    "\n",
    "\n",
    "#another approach: instead of two window, we will use for loop which runs only half of length of list. \n",
    "def is_list_palindrome(lst):\n",
    "    n=len(lst)\n",
    "    for i in range(n//2):\n",
    "        if lst[i]!=lst[n-1-i]: # to access the list from first and last.    \n",
    "            return False\n",
    "    return True\n",
    "print(is_list_palindrome([\"Red\", \"Green\", \"Blue\"]))  \n",
    "\n",
    "# another approach: solution using two pointers\n",
    "def is_list_palindrome(lst):\n",
    "    start=0\n",
    "    end=len(lst)-1\n",
    "    while start<end:\n",
    "        if lst[start]!=lst[end]:\n",
    "            return False\n",
    "        start+=1\n",
    "        end-=1\n",
    "    return True\n",
    "print(is_list_palindrome([\"Red\", \"Green\", \"Blue\"]))  \n",
    "\n",
    "#Hence it is best approach which have time complexity O(n) and suited for primitive flat/list (numbers,strings).        "
   ]
  },
  {
   "cell_type": "code",
   "execution_count": null,
   "id": "b608ce48",
   "metadata": {},
   "outputs": [
    {
     "name": "stdout",
     "output_type": "stream",
     "text": [
      "[10, 20, 30, 40]\n"
     ]
    }
   ],
   "source": [
    "# Remove duplicates while preserving order. (one of the important question).\n",
    "# we use set: \n",
    "\n",
    "def remove_duplicates(lst):\n",
    "    checked=set()\n",
    "    result=[]\n",
    "    for item in lst:\n",
    "        if item not in checked:\n",
    "            checked.add(item)\n",
    "            result.append(item)\n",
    "    return result\n",
    "print(remove_duplicates([10, 20, 10, 30, 20, 40]))\n",
    "\n",
    "# time complexity O(n) for number of list. \n",
    "# set is used for fast lookup, and with overall time O(n). \n",
    "#  most pythonic way to solve this problem. "
   ]
  },
  {
   "cell_type": "code",
   "execution_count": null,
   "id": "821b46d2",
   "metadata": {},
   "outputs": [
    {
     "name": "stdout",
     "output_type": "stream",
     "text": [
      "[2, 3]\n"
     ]
    }
   ],
   "source": [
    "# to print non repeated elements in the list.\n",
    "\n",
    "def non_repeted(nums):\n",
    "    count={}\n",
    "    for num in nums:\n",
    "        count[num]=count.get(num,0)+1\n",
    "    non_repeated=[]\n",
    "    for num in nums:\n",
    "        if count[num]==1:\n",
    "            non_repeated.append(num)\n",
    "    return non_repeated\n",
    "nums=[1,2,3,1]\n",
    "print(non_repeted(nums))\n",
    "\n",
    "# Time complexity:O(n)\n",
    "# The first loop is O(n).\n",
    "# The second loop is also O(n)."
   ]
  }
 ],
 "metadata": {
  "kernelspec": {
   "display_name": "Python 3",
   "language": "python",
   "name": "python3"
  },
  "language_info": {
   "codemirror_mode": {
    "name": "ipython",
    "version": 3
   },
   "file_extension": ".py",
   "mimetype": "text/x-python",
   "name": "python",
   "nbconvert_exporter": "python",
   "pygments_lexer": "ipython3",
   "version": "3.11.5"
  }
 },
 "nbformat": 4,
 "nbformat_minor": 5
}
