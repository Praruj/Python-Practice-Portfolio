{
 "cells": [
  {
   "cell_type": "markdown",
   "id": "f153a819",
   "metadata": {},
   "source": [
    "# Advanced Python exercies of List"
   ]
  },
  {
   "cell_type": "code",
   "execution_count": null,
   "id": "b7398ee8",
   "metadata": {},
   "outputs": [
    {
     "name": "stdout",
     "output_type": "stream",
     "text": [
      "[40, 30, 20, 10, 50, 60, 70, 80]\n"
     ]
    }
   ],
   "source": [
    "def reverse_list(lst,start,end):\n",
    "    while start<end:\n",
    "        lst[start],lst[end]=lst[end],lst[start]\n",
    "        start+=1\n",
    "        end-=1\n",
    "    return lst\n",
    "\n",
    "start=2\n",
    "end=4\n",
    "lst = [10, 20, 30, 40, 50, 60, 70, 80]\n",
    "print(reverse_list(lst, 0, 3))\n",
    "\n",
    "# this is sliding window example. But this disturbs the real order of the original ist. "
   ]
  }
 ],
 "metadata": {
  "kernelspec": {
   "display_name": "Python 3",
   "language": "python",
   "name": "python3"
  },
  "language_info": {
   "codemirror_mode": {
    "name": "ipython",
    "version": 3
   },
   "file_extension": ".py",
   "mimetype": "text/x-python",
   "name": "python",
   "nbconvert_exporter": "python",
   "pygments_lexer": "ipython3",
   "version": "3.11.5"
  }
 },
 "nbformat": 4,
 "nbformat_minor": 5
}
