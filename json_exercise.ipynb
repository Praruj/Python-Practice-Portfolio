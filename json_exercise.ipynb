{
 "cells": [
  {
   "cell_type": "markdown",
   "id": "e487ad07",
   "metadata": {},
   "source": [
    "# JSON (Java script object notation) is a syntax for storing and exchanging data. we can convert Python objects into JSON strings. JSON  is a lightweight, human-readable data format used for data interchange. It is commonly used for sending data between a server and a web application, or for storing configuration settings."
   ]
  },
  {
   "cell_type": "code",
   "execution_count": null,
   "id": "26d07c38",
   "metadata": {},
   "outputs": [
    {
     "name": "stdout",
     "output_type": "stream",
     "text": [
      "<class 'dict'>\n",
      "{\"name\": \"Hari\", \"class\": \"VI\", \"age\": 24}\n"
     ]
    }
   ],
   "source": [
    "#Convert Python Object to JSON Data\n",
    "import json\n",
    "dict1={\n",
    "    \"name\":\"Hari\",\n",
    "    \"class\":\"VI\",\n",
    "    \"age\":24\n",
    "}\n",
    "print(type(dict1))\n",
    "j_data=json.dumps(dict1) #json.dumps() function to serialize the dictionary into JSON-formatted string. \n",
    "print(j_data)\n",
    "#j_data is string immutable and meant for storage or transmisison. \n",
    "# Time complexity: O(n) where n is total number of key-value pairs and nested elements in the dictionary. \n"
   ]
  },
  {
   "cell_type": "code",
   "execution_count": 3,
   "id": "f1589f49",
   "metadata": {},
   "outputs": [
    {
     "name": "stdout",
     "output_type": "stream",
     "text": [
      "\n",
      "JSON data:\n",
      "{'name': 'malan', 'class': 'I', 'age': 24}\n",
      "\n",
      "ame:  malan\n",
      "class: I\n",
      "age: 24\n"
     ]
    }
   ],
   "source": [
    "# Convert JSON data to python object\n",
    "import json\n",
    "json_object='{\"name\":\"malan\",\"class\":\"I\",\"age\":24}'\n",
    "python_object=json.loads(json_object)\n",
    "print(\"\\nJSON data:\")\n",
    "print(python_object)\n",
    "print(\"\\name: \",python_object[\"name\"])\n",
    "print(\"class:\",python_object[\"class\"])\n",
    "print(\"age:\",python_object[\"age\"])"
   ]
  }
 ],
 "metadata": {
  "kernelspec": {
   "display_name": "3.10.0",
   "language": "python",
   "name": "python3"
  },
  "language_info": {
   "codemirror_mode": {
    "name": "ipython",
    "version": 3
   },
   "file_extension": ".py",
   "mimetype": "text/x-python",
   "name": "python",
   "nbconvert_exporter": "python",
   "pygments_lexer": "ipython3",
   "version": "3.10.0"
  }
 },
 "nbformat": 4,
 "nbformat_minor": 5
}
