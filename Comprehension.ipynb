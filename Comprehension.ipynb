{
 "cells": [
  {
   "cell_type": "markdown",
   "id": "a3521570",
   "metadata": {},
   "source": [
    "# comprehension: concise syntax for creating new collections like lists, dictionaries, or sets by transforming or filtering elements from existing iterables.\n",
    "1. List Comprehensions\n",
    "A list comprehension constructs a new list by applying an expression to each item in an iterable, optionally filtering with a condition, all in one line.\n",
    "new_list = [expression for item in iterable if condition]"
   ]
  },
  {
   "cell_type": "code",
   "execution_count": null,
   "id": "da0286e1",
   "metadata": {},
   "outputs": [
    {
     "data": {
      "text/plain": [
       "[11, 12, 13, 14, 15]"
      ]
     },
     "execution_count": 2,
     "metadata": {},
     "output_type": "execute_result"
    }
   ],
   "source": [
    "l=[1,2,3,4,5]\n",
    "l=[x+10 for x in l] #written in curly brackes because they ultimately a way to construct a new list. \n",
    "l\n"
   ]
  },
  {
   "cell_type": "code",
   "execution_count": 4,
   "id": "52bc2a80",
   "metadata": {},
   "outputs": [
    {
     "data": {
      "text/plain": [
       "['cccc', 'oooo', 'dddd', 'eeee']"
      ]
     },
     "execution_count": 4,
     "metadata": {},
     "output_type": "execute_result"
    }
   ],
   "source": [
    "result=[x*4 for x in \"code\"]\n",
    "result"
   ]
  },
  {
   "cell_type": "code",
   "execution_count": null,
   "id": "9023ec80",
   "metadata": {},
   "outputs": [
    {
     "data": {
      "text/plain": [
       "['a1', 'a2', 'a3', 'b1', 'b2', 'b3', 'c1', 'c2', 'c3']"
      ]
     },
     "execution_count": 5,
     "metadata": {},
     "output_type": "execute_result"
    }
   ],
   "source": [
    "# nested loops: for \n",
    "[x+y for x in \"abc\" for y in \"123\"]\n",
    "\n",
    "# list comprehension can sometimes become too compact for their own good. "
   ]
  },
  {
   "cell_type": "code",
   "execution_count": 6,
   "id": "5f5a5686",
   "metadata": {},
   "outputs": [
    {
     "data": {
      "text/plain": [
       "[22, 24]"
      ]
     },
     "execution_count": 6,
     "metadata": {},
     "output_type": "execute_result"
    }
   ],
   "source": [
    "# comprehensions cliff hanger:\n",
    "l=[12,10,14,9]\n",
    "res=[x+10 for x in l if x>10]\n",
    "res"
   ]
  },
  {
   "cell_type": "code",
   "execution_count": 8,
   "id": "b351b11a",
   "metadata": {},
   "outputs": [
    {
     "data": {
      "text/plain": [
       "{1: 1, 2: 4, 3: 9, 4: 16, 5: 25}"
      ]
     },
     "execution_count": 8,
     "metadata": {},
     "output_type": "execute_result"
    }
   ],
   "source": [
    "# list comprehension for dictionary.\n",
    "l=[1,2,3,4,5]\n",
    "mymap={x:x**2 for x in l}\n",
    "mymap"
   ]
  },
  {
   "cell_type": "markdown",
   "id": "ea65080c",
   "metadata": {},
   "source": [
    "# dictionary comprehensions.\n",
    "syntax: {key:value for member in iterable [if_condition]}"
   ]
  },
  {
   "cell_type": "code",
   "execution_count": 9,
   "id": "0210eb3b",
   "metadata": {},
   "outputs": [
    {
     "data": {
      "text/plain": [
       "{0, 1, 4, 9, 16}"
      ]
     },
     "execution_count": 9,
     "metadata": {},
     "output_type": "execute_result"
    }
   ],
   "source": [
    "{x*x for x in range(5)}"
   ]
  },
  {
   "cell_type": "code",
   "execution_count": null,
   "id": "d140468c",
   "metadata": {},
   "outputs": [
    {
     "data": {
      "text/plain": [
       "{'two': 2, 'four': 4}"
      ]
     },
     "execution_count": 10,
     "metadata": {},
     "output_type": "execute_result"
    }
   ],
   "source": [
    "# filtering items from dictionaries. \n",
    "numbers = {\"one\": 1, \"two\": 2, \"three\": 3, \"four\": 4, \"five\": 5}\n",
    "{key: value for key, value in numbers.items() if value % 2 == 0}\n"
   ]
  }
 ],
 "metadata": {
  "kernelspec": {
   "display_name": "3.10.0",
   "language": "python",
   "name": "python3"
  },
  "language_info": {
   "codemirror_mode": {
    "name": "ipython",
    "version": 3
   },
   "file_extension": ".py",
   "mimetype": "text/x-python",
   "name": "python",
   "nbconvert_exporter": "python",
   "pygments_lexer": "ipython3",
   "version": "3.10.0"
  }
 },
 "nbformat": 4,
 "nbformat_minor": 5
}
