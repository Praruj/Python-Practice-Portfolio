{
 "cells": [
  {
   "cell_type": "markdown",
<<<<<<< HEAD
   "id": "24173520",
   "metadata": {},
   "source": [
    "# Comprehension\n",
    "comprehension in python is concise way to create  new lists dictionaries or sets by applying an expression to each element in a variable. \n",
    "<br>\n",
    "List comprehension syntax: <br>\n",
    "[expression for item in iterable] <br>\n",
    "\n",
    "Dictionary comprehension <br>\n",
    "new_dict = {key_expression: value_expression for item in iterable if condition}"
=======
   "id": "a3521570",
   "metadata": {},
   "source": [
    "# comprehension: concise syntax for creating new collections like lists, dictionaries, or sets by transforming or filtering elements from existing iterables.\n",
    "1. List Comprehensions\n",
    "A list comprehension constructs a new list by applying an expression to each item in an iterable, optionally filtering with a condition, all in one line.\n",
    "new_list = [expression for item in iterable if condition]"
>>>>>>> e5cddfca739f75605546fb24c9fde5ed0fb190be
   ]
  },
  {
   "cell_type": "code",
   "execution_count": null,
<<<<<<< HEAD
   "id": "b6dbb533",
   "metadata": {},
   "outputs": [],
   "source": [
    "square=[lst*lst for lst in range(1,10)]\n",
    "print(square)"
   ]
  },
  {
   "cell_type": "code",
   "execution_count": null,
   "id": "968d49e3",
   "metadata": {},
   "outputs": [
    {
     "name": "stdout",
     "output_type": "stream",
     "text": [
      "[('red', 's'), ('red', 'M'), ('red', 'L'), ('black', 's'), ('black', 'M'), ('black', 'L'), ('green', 's'), ('green', 'M'), ('green', 'L')]\n"
     ]
    }
   ],
   "source": [
    "# cartesian product using list comprehension\n",
    "colors = [\"red\", \"black\", \"green\"]\n",
    "sizes = [\"s\", \"M\", \"L\"]\n",
    "tshirt = [(color, size) for color in colors for size in sizes]\n",
    "print(tshirt)\n"
   ]
  },
  {
   "cell_type": "code",
   "execution_count": 7,
   "id": "6e778245",
   "metadata": {},
   "outputs": [
    {
     "name": "stdout",
     "output_type": "stream",
     "text": [
      "[11, 0, 12, 13, 14]\n"
     ]
    }
   ],
   "source": [
    "numbers=[11,-11,12,13,14]\n",
    "reconstruct=[num if num>0 else 0 for num in numbers]\n",
    "print(reconstruct)"
   ]
=======
   "id": "da0286e1",
   "metadata": {},
   "outputs": [
    {
     "data": {
      "text/plain": [
       "[11, 12, 13, 14, 15]"
      ]
     },
     "execution_count": 2,
     "metadata": {},
     "output_type": "execute_result"
    }
   ],
   "source": [
    "l=[1,2,3,4,5]\n",
    "l=[x+10 for x in l] #written in curly brackes because they ultimately a way to construct a new list. \n",
    "l\n"
   ]
  },
  {
   "cell_type": "code",
   "execution_count": 4,
   "id": "52bc2a80",
   "metadata": {},
   "outputs": [
    {
     "data": {
      "text/plain": [
       "['cccc', 'oooo', 'dddd', 'eeee']"
      ]
     },
     "execution_count": 4,
     "metadata": {},
     "output_type": "execute_result"
    }
   ],
   "source": [
    "result=[x*4 for x in \"code\"]\n",
    "result"
   ]
  },
  {
   "cell_type": "code",
   "execution_count": null,
   "id": "9023ec80",
   "metadata": {},
   "outputs": [
    {
     "data": {
      "text/plain": [
       "['a1', 'a2', 'a3', 'b1', 'b2', 'b3', 'c1', 'c2', 'c3']"
      ]
     },
     "execution_count": 5,
     "metadata": {},
     "output_type": "execute_result"
    }
   ],
   "source": [
    "# nested loops: for \n",
    "[x+y for x in \"abc\" for y in \"123\"]\n",
    "\n",
    "# list comprehension can sometimes become too compact for their own good. "
   ]
  },
  {
   "cell_type": "code",
   "execution_count": null,
   "id": "5f5a5686",
   "metadata": {},
   "outputs": [],
   "source": []
>>>>>>> e5cddfca739f75605546fb24c9fde5ed0fb190be
  }
 ],
 "metadata": {
  "kernelspec": {
<<<<<<< HEAD
   "display_name": ".venv",
=======
   "display_name": "3.10.0",
>>>>>>> e5cddfca739f75605546fb24c9fde5ed0fb190be
   "language": "python",
   "name": "python3"
  },
  "language_info": {
   "codemirror_mode": {
    "name": "ipython",
    "version": 3
   },
   "file_extension": ".py",
   "mimetype": "text/x-python",
   "name": "python",
   "nbconvert_exporter": "python",
   "pygments_lexer": "ipython3",
<<<<<<< HEAD
   "version": "3.11.5"
=======
   "version": "3.10.0"
>>>>>>> e5cddfca739f75605546fb24c9fde5ed0fb190be
  }
 },
 "nbformat": 4,
 "nbformat_minor": 5
}
