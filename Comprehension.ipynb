{
 "cells": [
  {
   "cell_type": "markdown",
   "id": "24173520",
   "metadata": {},
   "source": [
    "# Comprehension\n",
    "comprehension in python is concise way to create  new lists dictionaries or sets by applying an expression to each element in a variable. \n",
    "<br>\n",
    "List comprehension syntax: <br>\n",
    "[expression for item in iterable] <br>\n",
    "\n",
    "Dictionary comprehension <br>\n",
    "new_dict = {key_expression: value_expression for item in iterable if condition}"
   ]
  },
  {
   "cell_type": "code",
   "execution_count": null,
   "id": "b6dbb533",
   "metadata": {},
   "outputs": [],
   "source": [
    "square=[lst*lst for lst in range(1,10)]\n",
    "print(square)"
   ]
  },
  {
   "cell_type": "code",
   "execution_count": null,
   "id": "968d49e3",
   "metadata": {},
   "outputs": [
    {
     "name": "stdout",
     "output_type": "stream",
     "text": [
      "[('red', 's'), ('red', 'M'), ('red', 'L'), ('black', 's'), ('black', 'M'), ('black', 'L'), ('green', 's'), ('green', 'M'), ('green', 'L')]\n"
     ]
    }
   ],
   "source": [
    "# cartesian product using list comprehension\n",
    "colors = [\"red\", \"black\", \"green\"]\n",
    "sizes = [\"s\", \"M\", \"L\"]\n",
    "tshirt = [(color, size) for color in colors for size in sizes]\n",
    "print(tshirt)\n"
   ]
  },
  {
   "cell_type": "code",
   "execution_count": 7,
   "id": "6e778245",
   "metadata": {},
   "outputs": [
    {
     "name": "stdout",
     "output_type": "stream",
     "text": [
      "[11, 0, 12, 13, 14]\n"
     ]
    }
   ],
   "source": [
    "numbers=[11,-11,12,13,14]\n",
    "reconstruct=[num if num>0 else 0 for num in numbers]\n",
    "print(reconstruct)"
   ]
  }
 ],
 "metadata": {
  "kernelspec": {
   "display_name": ".venv",
   "language": "python",
   "name": "python3"
  },
  "language_info": {
   "codemirror_mode": {
    "name": "ipython",
    "version": 3
   },
   "file_extension": ".py",
   "mimetype": "text/x-python",
   "name": "python",
   "nbconvert_exporter": "python",
   "pygments_lexer": "ipython3",
   "version": "3.11.5"
  }
 },
 "nbformat": 4,
 "nbformat_minor": 5
}
