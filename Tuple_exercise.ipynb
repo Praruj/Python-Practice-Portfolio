{
 "cells": [
  {
   "cell_type": "markdown",
   "id": "c4477f67",
   "metadata": {},
   "source": [
    "# Tuples are immutable lists and can hold mixed data types. It is a container which holds a series of comma-seperated values between parenthesis such as an (x,y) co-ordinate."
   ]
  },
  {
   "cell_type": "code",
   "execution_count": 32,
   "id": "19e64276",
   "metadata": {},
   "outputs": [
    {
     "name": "stdout",
     "output_type": "stream",
     "text": [
      "(1, 2, 3, 4)\n",
      "('hero', False, 2.3, 1, 2)\n",
      "False and [-1]\n",
      "(False, 2.3)\n"
     ]
    }
   ],
   "source": [
    "# Basic Tuple exercises.\n",
    "    # creatinng Tuple\n",
    "y=[1,2,3,4]\n",
    "z=tuple(y) #tuple() is a constuctor of a tuple.\n",
    "print(z)\n",
    "\n",
    "#different data types with Tuple. \n",
    "z=(\"hero\",False,2.3,1,2)\n",
    "print(z)\n",
    "\n",
    "# get an item of tuple\n",
    "item=z[1]\n",
    "item1=[-1]\n",
    "print(f\"{item} and {item1}\")\n",
    "\n",
    "#slicing of tuple\n",
    "_slice=z[1:3]\n",
    "print(_slice)\n"
   ]
  },
  {
   "cell_type": "code",
   "execution_count": 6,
   "id": "c7887484",
   "metadata": {},
   "outputs": [
    {
     "data": {
      "text/plain": [
       "[[1, 2], [2, 3], [3, 4]]"
      ]
     },
     "execution_count": 6,
     "metadata": {},
     "output_type": "execute_result"
    }
   ],
   "source": [
    "#convert a list of tuples to a list of lits.\n",
    "def Convert_tuple(list_tuples):\n",
    "    result=[]\n",
    "    for tup in list_tuples:\n",
    "        z=list(tup)\n",
    "        result.append(z)\n",
    "    return result\n",
    "Convert_tuple([(1, 2), (2, 3), (3, 4)])\n",
    "\n",
    "# Time complexity: O(n*k)=O(n) where n= no of tuples and k is average size of each tuple. \n",
    "# Another approach： result=[list(tup), for tup in list_tuples] : [expression for item in iterable]"
   ]
  },
  {
   "cell_type": "code",
   "execution_count": null,
   "id": "10c9670a",
   "metadata": {},
   "outputs": [
    {
     "data": {
      "text/plain": [
       "[3, 5, 9]"
      ]
     },
     "execution_count": 10,
     "metadata": {},
     "output_type": "execute_result"
    }
   ],
   "source": [
    "# sum of all elements of each tuple stored inside list of tuples\n",
    "\n",
    "def sum_tuple(lst):\n",
    "    result=[]\n",
    "    for tup in lst:\n",
    "        total=0\n",
    "        for num in tup:\n",
    "            total+=num\n",
    "        result.append(total)\n",
    "    return result\n",
    "sum_tuple([(1,2),(2,3),(4,5)])\n",
    "\n",
    "#time complexity: The outer loops run n times and inner loop runs k time, so O(n*k)=O(n)"
   ]
  },
  {
   "cell_type": "code",
   "execution_count": null,
   "id": "2798bea6",
   "metadata": {},
   "outputs": [
    {
     "name": "stdout",
     "output_type": "stream",
     "text": [
      "(1, 2) = 2 times.\n",
      "(3, 4) = 2 times.\n"
     ]
    }
   ],
   "source": [
    "# Find the repeated items in a tuple.\n",
    "\n",
    "def count_duplicates(lst1):\n",
    "    count_dict={}\n",
    "    for tup in lst1:\n",
    "        count_dict[tup]=count_dict.get(tup,0)+1\n",
    "    duplicates=[(tup,count) for tup,count in count_dict.items() if count>1] #use list comprehension to filter tuples with count greater than 1. \n",
    "\n",
    "    if not duplicates:\n",
    "        print(\"no duplicates\")\n",
    "    else:\n",
    "        for tup, count in duplicates:\n",
    "            print(f\"{tup} = {count} times.\")\n",
    "lst1=[(1, 2), (3, 4), (1, 2), (5, 6), (3, 4)]\n",
    "count_duplicates(lst1)\n",
    "\n",
    "#Time complexity: O(n) to count frequency and O(m) where m is unique number of tuples."
   ]
  }
 ],
 "metadata": {
  "kernelspec": {
   "display_name": "3.10.0",
   "language": "python",
   "name": "python3"
  },
  "language_info": {
   "codemirror_mode": {
    "name": "ipython",
    "version": 3
   },
   "file_extension": ".py",
   "mimetype": "text/x-python",
   "name": "python",
   "nbconvert_exporter": "python",
   "pygments_lexer": "ipython3",
   "version": "3.10.0"
  }
 },
 "nbformat": 4,
 "nbformat_minor": 5
}
