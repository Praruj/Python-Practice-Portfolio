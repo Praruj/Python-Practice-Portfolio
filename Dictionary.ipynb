{
 "cells": [
  {
   "cell_type": "markdown",
   "id": "e46247b7",
   "metadata": {},
   "source": [
    "**Dictionary Practice: Python Challenges**\n",
    "**Objective:** Practice Python dictionary basics for beginner projects."
   ]
  },
  {
   "cell_type": "code",
   "execution_count": null,
   "id": "e9b3cdd6",
   "metadata": {},
   "outputs": [
    {
     "name": "stdout",
     "output_type": "stream",
     "text": [
      "900\n"
     ]
    }
   ],
   "source": [
    "#Problem: sum of all items in a dictionary.\n",
    "my_dict={\"data1\":200,\"data2\":300,\"data3\":400}\n",
    "result=0    #initialize a variable to hold the total sum\n",
    "for value in my_dict.values():  #n*O(1)=O(n)  \n",
    "    result+=value\n",
    "print(result)\n",
    "\n",
    "#time complexity: O(n). the number of steps grows linearly with the dictionary size. \n",
    "#space complexity: O(1). : extra memory used doesnot grow with dictionary size.\n",
    "#another approach: result= sum(my_dict.values()) as well. "
   ]
  },
  {
   "cell_type": "code",
   "execution_count": null,
   "id": "281cc256",
   "metadata": {},
   "outputs": [
    {
     "name": "stdout",
     "output_type": "stream",
     "text": [
      "24000000\n"
     ]
    }
   ],
   "source": [
    "#multiply all the items in dictionary.\n",
    "my_dict={\"data1\":200,\"data2\":300,\"data3\":400} #O(1)\n",
    "result=1 #O(1)\n",
    "for value in my_dict.values(): #iterarting over values #O(n)\n",
    "    result*=value #O(1) \n",
    "print(result) #O(1)\n",
    "\n",
    "#time complexity: O(n), linear in relation to number of dictionary entries. \n",
    "#space complexity: my_dict takes O(n) space where n is the number of items in dictionary. \n"
   ]
  },
  {
   "cell_type": "code",
   "execution_count": null,
   "id": "078a132a",
   "metadata": {},
   "outputs": [
    {
     "name": "stdout",
     "output_type": "stream",
     "text": [
      "{'c': 3}\n"
     ]
    }
   ],
   "source": [
    "#removing key from the dictionary. \n",
    "my_dict = {\"a\": 1, \"b\": 2, \"c\": 3}\n",
    "my_dict.pop(\"b\",None) #using pop method  #O(1)\n",
    "del my_dict[\"a\"] #using del keyword    #O(1)\n",
    "print(my_dict)\n",
    "\n",
    "#time complexity:O(1), the time taken to remove a key doesnot depend on size of dicionary. \n",
    "#space complexity: O(n), the space depends on key-value pairs stored. "
   ]
  },
  {
   "cell_type": "code",
   "execution_count": 15,
   "id": "9902bec6",
   "metadata": {},
   "outputs": [
    {
     "name": "stdout",
     "output_type": "stream",
     "text": [
      "{'red': '#FF0000', 'green': '#008000', 'blue': '#0000FF'}\n"
     ]
    }
   ],
   "source": [
    "#Problem: mapping two list in dictionary\n",
    "keys = ['red', 'green', 'blue']\n",
    "values = ['#FF0000', '#008000', '#0000FF']\n",
    "dict1={}\n",
    "for i in range(len(keys)): #O(n) \n",
    "    dict1[keys[i]]=values[i]\n",
    "print(dict1)\n",
    "\n",
    "#Time complexity: O(n). since loops runs n times(linear time) with O(1) average insertion operation.\n",
    "#space complexity: O(n). For storing all n -key value pairs.\n",
    "#another approach dict1=dict(zip(key,values))  pythonic way to solve this problem. "
   ]
  },
  {
   "cell_type": "code",
   "execution_count": null,
   "id": "9c4eaec5",
   "metadata": {},
   "outputs": [
    {
     "name": "stdout",
     "output_type": "stream",
     "text": [
      "maximum value is 40\n",
      "minimum value is 18\n"
     ]
    }
   ],
   "source": [
    "#Problem: Get maximum and minumum values of dictionary. \n",
    "my_dict={\"ram\":40,\"shyam\":30,\"hari\":18}\n",
    "values=list(my_dict.values()) #making list to values of dictionary. O(n) time and space to create list of values\n",
    "max_value=values[0]\n",
    "min_value=values[0]\n",
    "for val in values[1:]:  #O(n) iteration through n-1 values.\n",
    "    if val>max_value:   #O(1) comparison.\n",
    "        max_value=val   #O(n) assignment.\n",
    "    if val<min_value:\n",
    "        min_value=val\n",
    "print(f\"maximum value is {max_value}\") #O(1) time to output.\n",
    "print(f\"minimum value is {min_value}\")\n",
    "\n",
    "#time complexity is O(n), dominated by for-loop\n",
    "#space compklexity is O(n), dominated by list of values and dictionary storage. "
   ]
  },
  {
   "cell_type": "code",
   "execution_count": null,
   "id": "fa0f2610",
   "metadata": {},
   "outputs": [
    {
     "name": "stdout",
     "output_type": "stream",
     "text": [
      "{'a': 10, 'b': 15, 'd': 20}\n"
     ]
    }
   ],
   "source": [
    "#Problem: Remove Duplicates from the Dictionary\n",
    "my_dict = {'a': 10, 'b': 15, 'c': 10, 'd': 20, 'e': 15}\n",
    "checked=set() #to track temporary values. O(n) in worst case\n",
    "unique_dict={} #loop runs in O(n) times\n",
    "for key,value in my_dict.items(): #O(1) in avergae\n",
    "    if value not in checked:\n",
    "        unique_dict[key]=value\n",
    "        checked.add(value)\n",
    "print(unique_dict) #O(n) time to print all items\n",
    "\n",
    "#time complexity: O(n): to loop over n items with O(1) time operations each\n",
    "#space complexity: O(n) Grows at most hold n unique values \n",
    "#this approach is efficient for flat dictionaries where values are ghashable and simple. "
   ]
  },
  {
   "cell_type": "code",
   "execution_count": null,
   "id": "240dd595",
   "metadata": {},
   "outputs": [
    {
     "name": "stdout",
     "output_type": "stream",
     "text": [
      "{'a': 400, 'b': 400, 'c': 300, 'd': 400}\n"
     ]
    }
   ],
   "source": [
    "#Problem: Combine two dictionary adding values for common keys.\n",
    "d1 = {'a': 100, 'b': 200, 'c': 300}\n",
    "d2 = {'a': 300, 'b': 200, 'd': 400}\n",
    "combined=d1.copy() #copying dictionary in new dictionary. \n",
    "for key,value in d2.items(): \n",
    "    combined[key]=combined.get(key,0)+value #useful when key is missing. if key exist in combined then returns value otherwise returns 0. \n",
    "print(combined)\n",
    "\n",
    "#time complexity: O(m+n) where m,n are sizes of two dictionary.\n",
    "#space complexity:O(k), where k is total number of unique keys combined."
   ]
  },
  {
   "cell_type": "code",
   "execution_count": null,
   "id": "0913f2a1",
   "metadata": {},
   "outputs": [
    {
     "name": "stdout",
     "output_type": "stream",
     "text": [
      "['S001', 'S002', 'S005', 'S009', 'S007']\n"
     ]
    }
   ],
   "source": [
    "#Print all distinct values in a dictionary from the list. \n",
    "L = [{\"V\": \"S001\"}, {\"V\": \"S002\"}, {\"VI\": \"S001\"}, {\"VI\": \"S005\"}, {\"VII\": \"S005\"}, {\"V\": \"S009\"}, {\"VIII\": \"S007\"}]\n",
    "newlist=[]\n",
    "for d in L:\n",
    "    for values in d.values():\n",
    "        if values not in newlist:\n",
    "            newlist.append(values)\n",
    "print(newlist)\n",
    "\n",
    "#Time complexity: O(n^2), since outerloop runs n number of times,n=L (number of dictionaries)\n",
    "#we can optimize it further. "
   ]
  },
  {
   "cell_type": "markdown",
   "id": "7b66708e",
   "metadata": {},
   "source": [
    "\n",
    "### Approach 2: Optimized using set lookup (O(n))"
   ]
  },
  {
   "cell_type": "code",
   "execution_count": null,
   "id": "a9c0ebf5",
   "metadata": {},
   "outputs": [
    {
     "name": "stdout",
     "output_type": "stream",
     "text": [
      "['S002', 'S005', 'S009', 'S007', 'S001']\n"
     ]
    }
   ],
   "source": [
    "L = [{\"V\": \"S001\"}, {\"V\": \"S002\"}, {\"VI\": \"S001\"}, {\"VI\": \"S005\"}, {\"VII\": \"S005\"}, {\"V\": \"S009\"}, {\"VIII\": \"S007\"}]\n",
    "unique_dict=set()\n",
    "for d in L:\n",
    "    unique_dict.update(d.values())\n",
    "print(list(unique_dict))\n",
    "#In this solution order is disrubed because of set. "
   ]
  },
  {
   "cell_type": "markdown",
   "id": "41b64e18",
   "metadata": {},
   "source": [
    "### another approach to preserve order and extracts unique values"
   ]
  },
  {
   "cell_type": "code",
   "execution_count": null,
   "id": "f436d3ff",
   "metadata": {},
   "outputs": [
    {
     "name": "stdout",
     "output_type": "stream",
     "text": [
      "['S001', 'S002', 'S005', 'S009', 'S007']\n"
     ]
    }
   ],
   "source": [
    "L = [{\"V\": \"S001\"}, {\"V\": \"S002\"}, {\"VI\": \"S001\"}, {\"VI\": \"S005\"}, {\"VII\": \"S005\"}, {\"V\": \"S009\"}, {\"VIII\": \"S007\"}]\n",
    "unique_val=[]\n",
    "seen=set()\n",
    "for d in L:\n",
    "    for v in d.values():\n",
    "        if v not in seen:\n",
    "            unique_val.append(v)\n",
    "            seen.add(v)\n",
    "print(unique_val)\n",
    "#Time complexity: O(n) where n is total number of dictionary values in the list. each value is checked and inserted in O(1) time. "
   ]
  },
  {
   "cell_type": "code",
   "execution_count": null,
   "id": "f1a4e61f",
   "metadata": {},
   "outputs": [
    {
     "name": "stdout",
     "output_type": "stream",
     "text": [
      "{'e': 2, 'x': 1, 'a': 1, 'm': 1, 'p': 1, 'l': 1, 's': 1, 't': 1, 'r': 1, 'i': 1, 'n': 1, 'g': 1}\n"
     ]
    }
   ],
   "source": [
    "#create a dictionary from a string (letter frequency).\n",
    "def letter_frequency(s):\n",
    "    frequency={} #O(1)\n",
    "    for char in s: #O(n)\n",
    "        if char.isalpha(): #count letters only, ignoring others. O(1) because it is helper method. \n",
    "            frequency[char]=frequency.get(char,0)+1 #O(1)\n",
    "    return frequency\n",
    "result=letter_frequency(\"example string\")\n",
    "print(result)\n",
    "\n",
    "#Time complexity: O(n) where n=length of string. "
   ]
  },
  {
   "cell_type": "code",
   "execution_count": null,
   "id": "202e103d",
   "metadata": {},
   "outputs": [],
   "source": []
  }
 ],
 "metadata": {
  "kernelspec": {
   "display_name": ".venv",
   "language": "python",
   "name": "python3"
  },
  "language_info": {
   "codemirror_mode": {
    "name": "ipython",
    "version": 3
   },
   "file_extension": ".py",
   "mimetype": "text/x-python",
   "name": "python",
   "nbconvert_exporter": "python",
   "pygments_lexer": "ipython3",
   "version": "3.10.0"
  }
 },
 "nbformat": 4,
 "nbformat_minor": 5
}
