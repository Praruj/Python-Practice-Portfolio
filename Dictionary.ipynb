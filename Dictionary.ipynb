{
 "cells": [
  {
   "cell_type": "markdown",
   "id": "e46247b7",
   "metadata": {},
   "source": [
    "**Dictionary Practice: Python Challenges**\n",
    "**Objective:** Practice Python dictionary basics for beginner projects."
   ]
  },
  {
   "cell_type": "code",
   "execution_count": 1,
   "id": "e9b3cdd6",
   "metadata": {},
   "outputs": [
    {
     "name": "stdout",
     "output_type": "stream",
     "text": [
      "900\n"
     ]
    }
   ],
   "source": [
    "#Problem: sum of all items in a dictionary.\n",
    "my_dict={\"data1\":200,\"data2\":300,\"data3\":400}\n",
    "result=0    #initialize a variable to hold the total sum\n",
    "for value in my_dict.values():  #n*O(1)=O(n)  \n",
    "    result+=value\n",
    "print(result)\n",
    "\n",
    "#time complexity: O(n). the number of steps grows linearly with the dictionary size. \n",
    "#space complexity: O(1). : extra memory used doesnot grow with dictionary size.\n",
    "#another approach: result= sum(my_dict.values()) as well. "
   ]
  },
  {
   "cell_type": "code",
   "execution_count": null,
   "id": "281cc256",
   "metadata": {},
   "outputs": [],
   "source": [
    "#multiply all the items in dictionary.\n",
    "my_dict={\"data1\":200,\"data2\":300,\"data3\":400} #O(1)\n",
    "result=1 #O(1)\n",
    "for value in my_dict.values(): #iterarting over values #O(n)\n",
    "    result*=value #O(1) \n",
    "print(result) #O(1)\n",
    "\n",
    "#time complexity: O(n), linear in relation to number of dictionary entries. \n",
    "#space complexity: my_dict takes O(n) space where n is the number of items in dictionary. \n"
   ]
  },
  {
   "cell_type": "code",
   "execution_count": null,
   "id": "078a132a",
   "metadata": {},
   "outputs": [],
   "source": [
    "#removing key from the dictionary. \n",
    "my_dict = {\"a\": 1, \"b\": 2, \"c\": 3}\n",
    "my_dict.pop(\"b\",None) #using pop method  #O(1)\n",
    "del my_dict[\"a\"] #using del keyword    #O(1)\n",
    "print(my_dict)\n",
    "\n",
    "#time complexity:O(1), the time taken to remove a key doesnot depend on size of dicionary. \n",
    "#space complexity: O(n), the space depends on key-value pairs stored. "
   ]
  },
  {
   "cell_type": "code",
   "execution_count": null,
   "id": "9902bec6",
   "metadata": {},
   "outputs": [],
   "source": [
    "#Problem: mapping two list in dictionary\n",
    "keys = ['red', 'green', 'blue']\n",
    "values = ['#FF0000', '#008000', '#0000FF']\n",
    "dict1={}\n",
    "for i in range(len(keys)): #O(n) \n",
    "    dict1[keys[i]]=values[i]\n",
    "print(dict1)\n",
    "\n",
    "#Time complexity: O(n). since loops runs n times(linear time) with O(1) average insertion operation.\n",
    "#space complexity: O(n). For storing all n -key value pairs.\n",
    "#another approach dict1=dict(zip(key,values))  pythonic way to solve this problem. "
   ]
  },
  {
   "cell_type": "code",
   "execution_count": null,
   "id": "9c4eaec5",
   "metadata": {},
   "outputs": [],
   "source": [
    "#Problem: Get maximum and minumum values of dictionary. \n",
    "my_dict={\"ram\":40,\"shyam\":30,\"hari\":18}\n",
    "values=list(my_dict.values()) #making list to values of dictionary. O(n) time and space to create list of values\n",
    "max_value=values[0]\n",
    "min_value=values[0]\n",
    "for val in values[1:]:  #O(n) iteration through n-1 values.\n",
    "    if val>max_value:   #O(1) comparison.\n",
    "        max_value=val   #O(n) assignment.\n",
    "    if val<min_value:\n",
    "        min_value=val\n",
    "print(f\"maximum value is {max_value}\") #O(1) time to output.\n",
    "print(f\"minimum value is {min_value}\")\n",
    "\n",
    "#time complexity is O(n), dominated by for-loop\n",
    "#space compklexity is O(n), dominated by list of values and dictionary storage. "
   ]
  },
  {
   "cell_type": "code",
   "execution_count": null,
   "id": "fa0f2610",
   "metadata": {},
   "outputs": [],
   "source": [
    "#Problem: Remove Duplicates from the Dictionary\n",
    "my_dict = {'a': 10, 'b': 15, 'c': 10, 'd': 20, 'e': 15}\n",
    "checked=set() #to track temporary values. O(n) in worst case\n",
    "unique_dict={} #loop runs in O(n) times\n",
    "for key,value in my_dict.items(): #O(1) in avergae\n",
    "    if value not in checked:\n",
    "        unique_dict[key]=value\n",
    "        checked.add(value)\n",
    "print(unique_dict) #O(n) time to print all items\n",
    "\n",
    "#time complexity: O(n): to loop over n items with O(1) time operations each\n",
    "#space complexity: O(n) Grows at most hold n unique values \n",
    "#this approach is efficient for flat dictionaries where values are ghashable and simple. "
   ]
  },
  {
   "cell_type": "code",
   "execution_count": null,
   "id": "240dd595",
   "metadata": {},
   "outputs": [],
   "source": [
    "#Problem: Combine two dictionary adding values for common keys.\n",
    "d1 = {'a': 100, 'b': 200, 'c': 300}\n",
    "d2 = {'a': 300, 'b': 200, 'd': 400}\n",
    "combined=d1.copy() #copying dictionary in new dictionary. \n",
    "for key,value in d2.items(): \n",
    "    combined[key]=combined.get(key,0)+value #useful when key is missing. if key exist in combined then returns value otherwise returns 0. \n",
    "print(combined)\n",
    "\n",
    "#time complexity: O(m+n) where m,n are sizes of two dictionary.\n",
    "#space complexity:O(k), where k is total number of unique keys combined."
   ]
  },
  {
   "cell_type": "code",
   "execution_count": null,
   "id": "0913f2a1",
   "metadata": {},
   "outputs": [],
   "source": [
    "#Print all distinct values in a dictionary from the list. \n",
    "L = [{\"V\": \"S001\"}, {\"V\": \"S002\"}, {\"VI\": \"S001\"}, {\"VI\": \"S005\"}, {\"VII\": \"S005\"}, {\"V\": \"S009\"}, {\"VIII\": \"S007\"}]\n",
    "newlist=[]\n",
    "for d in L:\n",
    "    for values in d.values():\n",
    "        if values not in newlist:\n",
    "            newlist.append(values)\n",
    "print(newlist)\n",
    "\n",
    "#Time complexity: O(n^2), since outerloop runs n number of times,n=L (number of dictionaries)\n",
    "#we can optimize it further. "
   ]
  },
  {
   "cell_type": "markdown",
   "id": "7b66708e",
   "metadata": {},
   "source": [
    "\n",
    "### Approach 2: Optimized using set lookup (O(n))"
   ]
  },
  {
   "cell_type": "code",
   "execution_count": null,
   "id": "a9c0ebf5",
   "metadata": {},
   "outputs": [],
   "source": [
    "L = [{\"V\": \"S001\"}, {\"V\": \"S002\"}, {\"VI\": \"S001\"}, {\"VI\": \"S005\"}, {\"VII\": \"S005\"}, {\"V\": \"S009\"}, {\"VIII\": \"S007\"}]\n",
    "unique_dict=set()\n",
    "for d in L:\n",
    "    unique_dict.update(d.values())\n",
    "print(list(unique_dict))\n",
    "#In this solution order is disrubed because of set. "
   ]
  },
  {
   "cell_type": "markdown",
   "id": "41b64e18",
   "metadata": {},
   "source": [
    "### another approach to preserve order and extracts unique values"
   ]
  },
  {
   "cell_type": "code",
   "execution_count": null,
   "id": "f436d3ff",
   "metadata": {},
   "outputs": [],
   "source": [
    "L = [{\"V\": \"S001\"}, {\"V\": \"S002\"}, {\"VI\": \"S001\"}, {\"VI\": \"S005\"}, {\"VII\": \"S005\"}, {\"V\": \"S009\"}, {\"VIII\": \"S007\"}]\n",
    "unique_val=[]\n",
    "seen=set()\n",
    "for d in L:\n",
    "    for v in d.values():\n",
    "        if v not in seen:\n",
    "            unique_val.append(v)\n",
    "            seen.add(v)\n",
    "print(unique_val)\n",
    "#Time complexity: O(n) where n is total number of dictionary values in the list. each value is checked and inserted in O(1) time. "
   ]
  },
  {
   "cell_type": "code",
   "execution_count": 2,
   "id": "f1a4e61f",
   "metadata": {},
   "outputs": [
    {
     "name": "stdout",
     "output_type": "stream",
     "text": [
      "{'e': 2, 'x': 1, 'a': 1, 'm': 1, 'p': 1, 'l': 1, 's': 1, 't': 1, 'r': 1, 'i': 1, 'n': 1, 'g': 1}\n"
     ]
    }
   ],
   "source": [
    "#create a dictionary from a string (letter frequency).\n",
    "def letter_frequency(s):\n",
    "    frequency={} #O(1)\n",
    "    for char in s: #O(n)\n",
    "        if char.isalpha(): #count letters only, ignoring others. O(1) because it is helper method. \n",
    "            frequency[char]=frequency.get(char,0)+1 #O(1)\n",
    "    return frequency\n",
    "result=letter_frequency(\"example string\")\n",
    "print(result)\n",
    "\n",
    "#Time complexity: O(n) where n=length of string. "
   ]
  },
  {
   "cell_type": "code",
   "execution_count": null,
   "id": "202e103d",
   "metadata": {},
   "outputs": [
    {
     "name": "stdout",
     "output_type": "stream",
     "text": [
      "{'n1': [2, 5, 7], 'n2': [1, 3, 8], 'n3': [4, 6, 9]}\n"
     ]
    }
   ],
   "source": [
    "#sort a list alphabetically in adictionary. \n",
    "nums={'n1': [2, 7, 5], 'n2': [8, 1, 3], 'n3': [4, 6, 9]}\n",
    "sorted_dict={}\n",
    "for x,y in nums.items():\n",
    "    sorted_dict[x]=sorted(y)\n",
    "print(sorted_dict)\n",
    "\n",
    "#Time complexity: In iteration O(n) and while using sort o(mlogm) per list so total complexity is O(n*mlogm).\n",
    "#another approach: sorted_dict={x:sorted y for x, y in nums.items()}\n"
   ]
  },
  {
   "cell_type": "code",
   "execution_count": null,
   "id": "d46ceea0",
   "metadata": {},
   "outputs": [
    {
     "name": "stdout",
     "output_type": "stream",
     "text": [
      "{'S001': ['Math', 'Science'], 'S002': ['Math', 'English']}\n"
     ]
    }
   ],
   "source": [
    "# Remove Spaces from dictionary key\n",
    "student_list = {'S  001': ['Math', 'Science'], 'S    002': ['Math', 'English']}\n",
    "new_dict={}\n",
    "for key in student_list.keys():\n",
    "    new_key=key.replace(\" \",\"\")\n",
    "    new_dict[new_key]=student_list[key]\n",
    "print(new_dict)\n",
    "\n",
    "#Time complexity:O(n), where n is number of keys. \n",
    "#since we made new dictionary, it can be little bit optimized if memor is concern. \n",
    "# for key in list(student_list.keys()):\n",
    "#   new_key=key.replace(\" \",\"\")\n",
    "#   d[new_key]=d.pop(key)  just removing old key and putting new key. "
   ]
  },
  {
   "cell_type": "code",
   "execution_count": 11,
   "id": "93eb3fe8",
   "metadata": {},
   "outputs": [
    {
     "name": "stdout",
     "output_type": "stream",
     "text": [
      "1   Ram   20\n",
      "2   shyam   30\n",
      "3   hari   40\n"
     ]
    }
   ],
   "source": [
    "#get key value, item(index) from a dictionary.\n",
    "students={\"Ram\":20,\"shyam\":30,\"hari\":40}\n",
    "for count, (key,value) in enumerate(students.items(),1): #count or indexing from 1.\n",
    "    print(count,\" \",key,\" \", value)\n",
    "\n",
    "#Time complexity: linear time complexity O(n), proportional to dictionary size. "
   ]
  },
  {
   "cell_type": "code",
   "execution_count": null,
   "id": "6d37687d",
   "metadata": {},
   "outputs": [
    {
     "name": "stdout",
     "output_type": "stream",
     "text": [
      "hari\n",
      "class : V\n",
      "Rollno : 2\n",
      "gita\n",
      "class : VI\n",
      "Rollno : 3\n"
     ]
    }
   ],
   "source": [
    "#To print dictionary line by line. \n",
    "students={\"hari\":{\"class\":\"V\",\"Rollno\":2},\"gita\":{\"class\":\"VI\",\"Rollno\":3}}\n",
    "for name in students:\n",
    "    print(name)\n",
    "    for details in students[name]:\n",
    "        print(details, \":\",students[name][details])\n",
    "#time complexity: O(n)-outerloop iterates over all students, where n is number of students.\n",
    "#inner loop iterates over each student details asssuming each student has m details: O(n). Hence, O(n*m), effectively O(n).\n",
    "# it could be O(n^2), n of students having n number of details. \n",
    "\n",
    "#Another Approach:to avoid inner loop to avoid repeated dictionary lookups, we can use .items()\n",
    "for name,details_dct in students.items():\n",
    "    print(name)\n",
    "    for detail_key, details_value in details_dct.items():\n",
    "        print(detail_key,\":\",details_value)\n",
    "\n",
    "#in the first approach students[name][details] accesses inner dictionary twice. but items() access it on once. "
   ]
  }
 ],
 "metadata": {
  "kernelspec": {
   "display_name": "3.10.0",
   "language": "python",
   "name": "python3"
  },
  "language_info": {
   "codemirror_mode": {
    "name": "ipython",
    "version": 3
   },
   "file_extension": ".py",
   "mimetype": "text/x-python",
   "name": "python",
   "nbconvert_exporter": "python",
   "pygments_lexer": "ipython3",
   "version": "3.10.0"
  }
 },
 "nbformat": 4,
 "nbformat_minor": 5
}
